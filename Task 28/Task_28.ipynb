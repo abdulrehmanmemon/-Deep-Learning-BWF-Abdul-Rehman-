{
  "nbformat": 4,
  "nbformat_minor": 0,
  "metadata": {
    "colab": {
      "provenance": []
    },
    "kernelspec": {
      "name": "python3",
      "display_name": "Python 3"
    },
    "language_info": {
      "name": "python"
    }
  },
  "cells": [
    {
      "cell_type": "markdown",
      "source": [
        "#ABDUL REHMAN\n",
        "#E-mail: a.rehmanmemon.034@gmail.com\n",
        "#Date Of Submission: 02/07/2023"
      ],
      "metadata": {
        "id": "0vizQR3pf9uq"
      }
    },
    {
      "cell_type": "markdown",
      "source": [
        "# 🔴 Task 28\n",
        "\n",
        "# Topics: Convolutional Neural Networks (1D & 2D) & Pooling, Build a Convnet from Scratch using TensorFlow"
      ],
      "metadata": {
        "id": "bB5pe832gCyA"
      }
    },
    {
      "cell_type": "code",
      "source": [
        "import tensorflow as tf\n",
        "from tensorflow.keras import layers"
      ],
      "metadata": {
        "id": "3H5AiBRGgGuK"
      },
      "execution_count": 1,
      "outputs": []
    },
    {
      "cell_type": "code",
      "source": [
        "#Create a 1D ConvNet\n",
        "model_1d = tf.keras.Sequential()\n",
        "\n",
        "# Add a 1D Convolutional layer\n",
        "model_1d.add(layers.Conv1D(filters=32, kernel_size=3, activation='relu', input_shape=(100, 1)))\n",
        "\n",
        "# Add a Max Pooling layer\n",
        "model_1d.add(layers.MaxPooling1D(pool_size=2))\n",
        "\n",
        "# Flatten the output\n",
        "model_1d.add(layers.Flatten())\n",
        "\n",
        "# Add a fully connected layer\n",
        "model_1d.add(layers.Dense(units=64, activation='relu'))\n",
        "\n",
        "# Add an output layer\n",
        "model_1d.add(layers.Dense(units=10, activation='softmax'))"
      ],
      "metadata": {
        "id": "ZquQ_oDygKXo"
      },
      "execution_count": 3,
      "outputs": []
    },
    {
      "cell_type": "code",
      "source": [
        "# Print the model summary\n",
        "model_1d.summary()\n"
      ],
      "metadata": {
        "colab": {
          "base_uri": "https://localhost:8080/"
        },
        "id": "5i2xKmOugPYe",
        "outputId": "e4ad0556-dc6d-46c4-d8d8-979cccb96fde"
      },
      "execution_count": 4,
      "outputs": [
        {
          "output_type": "stream",
          "name": "stdout",
          "text": [
            "Model: \"sequential\"\n",
            "_________________________________________________________________\n",
            " Layer (type)                Output Shape              Param #   \n",
            "=================================================================\n",
            " conv1d (Conv1D)             (None, 98, 32)            128       \n",
            "                                                                 \n",
            " max_pooling1d (MaxPooling1D  (None, 49, 32)           0         \n",
            " )                                                               \n",
            "                                                                 \n",
            " flatten (Flatten)           (None, 1568)              0         \n",
            "                                                                 \n",
            " dense (Dense)               (None, 64)                100416    \n",
            "                                                                 \n",
            " dense_1 (Dense)             (None, 10)                650       \n",
            "                                                                 \n",
            "=================================================================\n",
            "Total params: 101,194\n",
            "Trainable params: 101,194\n",
            "Non-trainable params: 0\n",
            "_________________________________________________________________\n"
          ]
        }
      ]
    },
    {
      "cell_type": "code",
      "source": [
        "# Create a 2D ConvNet\n",
        "model_2d = tf.keras.Sequential()\n",
        "\n",
        "# Add a 2D Convolutional layer\n",
        "model_2d.add(layers.Conv2D(filters=32, kernel_size=(3, 3), activation='relu', input_shape=(28, 28, 1)))\n",
        "\n",
        "# Add a Max Pooling layer\n",
        "model_2d.add(layers.MaxPooling2D(pool_size=(2, 2)))\n",
        "\n",
        "# Flatten the output\n",
        "model_2d.add(layers.Flatten())\n",
        "\n",
        "# Add a fully connected layer\n",
        "model_2d.add(layers.Dense(units=64, activation='relu'))\n",
        "\n",
        "# Add an output layer\n",
        "model_2d.add(layers.Dense(units=10, activation='softmax'))\n"
      ],
      "metadata": {
        "id": "8v0IuyNdgV8Y"
      },
      "execution_count": 5,
      "outputs": []
    },
    {
      "cell_type": "code",
      "source": [
        "# Print the model summary\n",
        "model_2d.summary()"
      ],
      "metadata": {
        "colab": {
          "base_uri": "https://localhost:8080/"
        },
        "id": "mbP1QQ74gYZb",
        "outputId": "0d7228b8-e182-4eaa-e040-3e264c1028ee"
      },
      "execution_count": 6,
      "outputs": [
        {
          "output_type": "stream",
          "name": "stdout",
          "text": [
            "Model: \"sequential_1\"\n",
            "_________________________________________________________________\n",
            " Layer (type)                Output Shape              Param #   \n",
            "=================================================================\n",
            " conv2d (Conv2D)             (None, 26, 26, 32)        320       \n",
            "                                                                 \n",
            " max_pooling2d (MaxPooling2D  (None, 13, 13, 32)       0         \n",
            " )                                                               \n",
            "                                                                 \n",
            " flatten_1 (Flatten)         (None, 5408)              0         \n",
            "                                                                 \n",
            " dense_2 (Dense)             (None, 64)                346176    \n",
            "                                                                 \n",
            " dense_3 (Dense)             (None, 10)                650       \n",
            "                                                                 \n",
            "=================================================================\n",
            "Total params: 347,146\n",
            "Trainable params: 347,146\n",
            "Non-trainable params: 0\n",
            "_________________________________________________________________\n"
          ]
        }
      ]
    },
    {
      "cell_type": "code",
      "source": [],
      "metadata": {
        "id": "SsaCl_IJgaTV"
      },
      "execution_count": null,
      "outputs": []
    }
  ]
}