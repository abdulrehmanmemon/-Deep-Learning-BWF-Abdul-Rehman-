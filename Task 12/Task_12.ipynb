{
  "nbformat": 4,
  "nbformat_minor": 0,
  "metadata": {
    "colab": {
      "provenance": []
    },
    "kernelspec": {
      "name": "python3",
      "display_name": "Python 3"
    },
    "language_info": {
      "name": "python"
    }
  },
  "cells": [
    {
      "cell_type": "markdown",
      "source": [
        "# ABDUL REHMAN\n",
        "## E-mail: a.rehmanmemon.034@gmail.com\n",
        "### Date Of Submission: 31/03/2023"
      ],
      "metadata": {
        "id": "WPbjmveVC-7S"
      }
    },
    {
      "cell_type": "markdown",
      "source": [
        "#Task 12\n",
        "\n",
        "Topics: Broadcasting in Numpy Array\n",
        "\n",
        "Resource: https://drive.google.com/file/d/1ILp88f3u_KgJ_nlhTSsAVGdmZlICGhhd/view?usp=share_link\n",
        "\n",
        "Directions: The Broadcasting concepts are available in Numpy Appendix A: Advanced Numpy Section of the resource."
      ],
      "metadata": {
        "id": "PexHuym1DEVn"
      }
    },
    {
      "cell_type": "code",
      "source": [
        "import numpy as np"
      ],
      "metadata": {
        "id": "tdENJZhhD_Jw"
      },
      "execution_count": 1,
      "outputs": []
    },
    {
      "cell_type": "code",
      "source": [
        "print('Broadcasting with a scalar value:')\n",
        "a = np.array([1, 2, 3])\n",
        "b = 2\n",
        "c = a + b\n",
        "print(c)"
      ],
      "metadata": {
        "colab": {
          "base_uri": "https://localhost:8080/"
        },
        "id": "Zoyhhk-nDHP5",
        "outputId": "b6dd0a5e-5949-4df3-cbcc-82af80bed039"
      },
      "execution_count": 5,
      "outputs": [
        {
          "output_type": "stream",
          "name": "stdout",
          "text": [
            "Broadcasting with a scalar value:\n",
            "[3 4 5]\n"
          ]
        }
      ]
    },
    {
      "cell_type": "code",
      "source": [
        "print('Broadcasting with higher-dimensional arrays:')\n",
        "a = np.array([[1, 2], [3, 4]])\n",
        "b = np.array([10, 20])\n",
        "c = a + b\n",
        "print(c)"
      ],
      "metadata": {
        "colab": {
          "base_uri": "https://localhost:8080/"
        },
        "id": "o_QhaiRHEBIH",
        "outputId": "f79b02ff-cc98-4407-a4df-7494b97039be"
      },
      "execution_count": 6,
      "outputs": [
        {
          "output_type": "stream",
          "name": "stdout",
          "text": [
            "Broadcasting with higher-dimensional arrays:\n",
            "[[11 22]\n",
            " [13 24]]\n"
          ]
        }
      ]
    },
    {
      "cell_type": "code",
      "source": [
        "print('Broadcasting with mismatched shapes:')\n",
        "a = np.array([[1, 2, 3], [4, 5, 6]])\n",
        "b = np.array([10, 20])\n",
        "c = a + b.reshape(-1, 1)\n",
        "\n",
        "print('b:',b)\n",
        "\n",
        "print(\"result:\",c)"
      ],
      "metadata": {
        "colab": {
          "base_uri": "https://localhost:8080/"
        },
        "id": "pPPxrBlqEHmw",
        "outputId": "0a01eca8-1b89-4390-f684-c397ee1d98c0"
      },
      "execution_count": 7,
      "outputs": [
        {
          "output_type": "stream",
          "name": "stdout",
          "text": [
            "Broadcasting with mismatched shapes:\n",
            "b: [10 20]\n",
            "result: [[11 12 13]\n",
            " [24 25 26]]\n"
          ]
        }
      ]
    },
    {
      "cell_type": "markdown",
      "source": [
        "# The End 😃"
      ],
      "metadata": {
        "id": "FUoVEOJAEZNA"
      }
    }
  ]
}