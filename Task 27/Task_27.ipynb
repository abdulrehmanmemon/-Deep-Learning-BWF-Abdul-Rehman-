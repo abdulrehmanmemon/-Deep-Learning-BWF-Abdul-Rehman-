{
  "nbformat": 4,
  "nbformat_minor": 0,
  "metadata": {
    "colab": {
      "provenance": []
    },
    "kernelspec": {
      "name": "python3",
      "display_name": "Python 3"
    },
    "language_info": {
      "name": "python"
    }
  },
  "cells": [
    {
      "cell_type": "markdown",
      "source": [
        "#ABDUL REHMAN\n",
        "#E-mail: a.rehmanmemon.034@gmail.com\n",
        "#Date Of Submission: 02/07/2023"
      ],
      "metadata": {
        "id": "ncnSofiia7nD"
      }
    },
    {
      "cell_type": "markdown",
      "source": [
        "# 🔴 Task 27\n",
        "\n",
        "# Topics: Stacking Up Layers in a Neural Network (ANN)"
      ],
      "metadata": {
        "id": "i79Al2-VbgkZ"
      }
    },
    {
      "cell_type": "code",
      "source": [
        "import numpy as np\n",
        "\n",
        "# Generate dummy data\n",
        "num_samples = 1000\n",
        "input_dim = 10\n",
        "\n",
        "# Randomly generate input data\n",
        "X_data = np.random.rand(num_samples, input_dim)\n",
        "\n",
        "# Create a binary classification problem\n",
        "threshold = 0.5\n",
        "y_data = np.random.randint(2, size=num_samples)\n",
        "y_data = np.where(y_data > threshold, 1, 0)\n",
        "\n",
        "# Split the data into training and testing sets\n",
        "split_ratio = 0.8  # Example: 80% training, 20% testing\n",
        "split_index = int(split_ratio * len(X_data))\n",
        "X_train = X_data[:split_index]\n",
        "y_train = y_data[:split_index]\n",
        "X_test = X_data[split_index:]\n",
        "y_test = y_data[split_index:]"
      ],
      "metadata": {
        "id": "-8hq7tTHcbLS"
      },
      "execution_count": null,
      "outputs": []
    },
    {
      "cell_type": "code",
      "source": [
        "#import libraries\n",
        "import tensorflow as tf\n",
        "from tensorflow import keras"
      ],
      "metadata": {
        "id": "0qEM6nsOblRn"
      },
      "execution_count": null,
      "outputs": []
    },
    {
      "cell_type": "code",
      "source": [
        "# Define the layers for your ANN\n",
        "input_dim = 10  # Example input dimension\n",
        "hidden_units = 64  # Number of units in the hidden layer\n",
        "output_dim = 1  # Example output dimension"
      ],
      "metadata": {
        "id": "M_CegyqEbqYd"
      },
      "execution_count": null,
      "outputs": []
    },
    {
      "cell_type": "code",
      "source": [
        "# Initialize the model\n",
        "model = keras.Sequential()\n",
        "\n",
        "# Phase 1: Add the input layer\n",
        "model.add(keras.layers.Dense(units=hidden_units, activation='relu', input_dim=input_dim))\n",
        "\n",
        "# Phase 2: Add additional hidden layers\n",
        "num_hidden_layers = 2  # Example: Adding 2 hidden layers\n",
        "for _ in range(num_hidden_layers):\n",
        "    model.add(keras.layers.Dense(units=hidden_units, activation='relu'))\n",
        "\n",
        "# Phase 3: Add the output layer\n",
        "model.add(keras.layers.Dense(units=output_dim, activation='sigmoid'))"
      ],
      "metadata": {
        "id": "-k4k3s4ybsR6"
      },
      "execution_count": null,
      "outputs": []
    },
    {
      "cell_type": "code",
      "source": [
        "# Phase 4: Compile the model\n",
        "model.compile(loss='binary_crossentropy', optimizer='adam', metrics=['accuracy'])"
      ],
      "metadata": {
        "id": "o2YHDeMgbxKX"
      },
      "execution_count": null,
      "outputs": []
    },
    {
      "cell_type": "code",
      "source": [
        "# Phase 5: Train the model with your data\n",
        "# X_train and y_train are your training data and labels\n",
        "model.fit(X_train, y_train, epochs=10, batch_size=32)"
      ],
      "metadata": {
        "colab": {
          "base_uri": "https://localhost:8080/"
        },
        "id": "Df_PgUU1bzeF",
        "outputId": "3e6d8e3a-bc58-4836-81c9-8cc166fd35dd"
      },
      "execution_count": null,
      "outputs": [
        {
          "output_type": "stream",
          "name": "stdout",
          "text": [
            "Epoch 1/10\n",
            "25/25 [==============================] - 1s 2ms/step - loss: 0.6933 - accuracy: 0.5088\n",
            "Epoch 2/10\n",
            "25/25 [==============================] - 0s 2ms/step - loss: 0.6901 - accuracy: 0.5300\n",
            "Epoch 3/10\n",
            "25/25 [==============================] - 0s 2ms/step - loss: 0.6879 - accuracy: 0.5487\n",
            "Epoch 4/10\n",
            "25/25 [==============================] - 0s 2ms/step - loss: 0.6856 - accuracy: 0.5600\n",
            "Epoch 5/10\n",
            "25/25 [==============================] - 0s 2ms/step - loss: 0.6843 - accuracy: 0.5612\n",
            "Epoch 6/10\n",
            "25/25 [==============================] - 0s 2ms/step - loss: 0.6825 - accuracy: 0.5650\n",
            "Epoch 7/10\n",
            "25/25 [==============================] - 0s 2ms/step - loss: 0.6813 - accuracy: 0.5700\n",
            "Epoch 8/10\n",
            "25/25 [==============================] - 0s 2ms/step - loss: 0.6779 - accuracy: 0.5562\n",
            "Epoch 9/10\n",
            "25/25 [==============================] - 0s 2ms/step - loss: 0.6753 - accuracy: 0.5650\n",
            "Epoch 10/10\n",
            "25/25 [==============================] - 0s 2ms/step - loss: 0.6731 - accuracy: 0.5700\n"
          ]
        },
        {
          "output_type": "execute_result",
          "data": {
            "text/plain": [
              "<keras.callbacks.History at 0x7f19c37fa890>"
            ]
          },
          "metadata": {},
          "execution_count": 8
        }
      ]
    },
    {
      "cell_type": "code",
      "source": [
        "# Phase 6: Evaluate the model on test data\n",
        "# X_test and y_test are your test data and labels\n",
        "loss, accuracy = model.evaluate(X_test, y_test)\n",
        "print('Test Loss:', loss)\n",
        "print('Test Accuracy:', accuracy)"
      ],
      "metadata": {
        "colab": {
          "base_uri": "https://localhost:8080/"
        },
        "id": "58bgu3zOb1oq",
        "outputId": "14307a25-bd42-4d77-b5c4-ea44384c8f93"
      },
      "execution_count": null,
      "outputs": [
        {
          "output_type": "stream",
          "name": "stdout",
          "text": [
            "7/7 [==============================] - 0s 3ms/step - loss: 0.6951 - accuracy: 0.5250\n",
            "Test Loss: 0.6950708031654358\n",
            "Test Accuracy: 0.5249999761581421\n"
          ]
        }
      ]
    },
    {
      "cell_type": "code",
      "source": [],
      "metadata": {
        "id": "UMdXsHz4b3W3"
      },
      "execution_count": null,
      "outputs": []
    }
  ]
}