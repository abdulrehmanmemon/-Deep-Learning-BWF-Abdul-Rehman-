{
  "nbformat": 4,
  "nbformat_minor": 0,
  "metadata": {
    "colab": {
      "provenance": []
    },
    "kernelspec": {
      "name": "python3",
      "display_name": "Python 3"
    },
    "language_info": {
      "name": "python"
    }
  },
  "cells": [
    {
      "cell_type": "markdown",
      "source": [
        "# ABDUL REHMAN\n",
        "## E-mail: a.rehmanmemon.034@gmail.com\n",
        "### Date Of Submission: 24/03/2023"
      ],
      "metadata": {
        "id": "HAVtHp5pPbfq"
      }
    },
    {
      "cell_type": "markdown",
      "source": [
        "## Task 07\n",
        "Topics: Functions in Python, Docstrings, Definition, Calling, Passing Arguments to Functions, Returning Values, Arbitrary Number of Arguments, Explore \"Don't Repeat Yourself\"\n",
        "\n",
        "Resource: https://drive.google.com/file/d/12HEIuGU0NRgJutUQkMUhGKo-Nr_YWYdq/view?usp=share_link"
      ],
      "metadata": {
        "id": "a5wgTsh0PhN1"
      }
    },
    {
      "cell_type": "markdown",
      "source": [
        "## Chapter 8: Functions\n",
        "\n",
        "8-1. Message: Write a function called display_message() that prints one sen-\n",
        "tence telling everyone what you are learning about in this chapter. Call the function, and make sure the message displays correctly.\n",
        "\n",
        "8-2. Favorite Book: Write a function called favorite_book() that accepts one\n",
        "parameter, title. The function should print a message, such as One of my\n",
        "favorite books is Alice in Wonderland. Call the function, making sure to\n",
        "include a book title as an argument in the function call."
      ],
      "metadata": {
        "id": "05gAwpm6Pp4_"
      }
    },
    {
      "cell_type": "code",
      "source": [
        "print('\\nExercise 8.1')\n",
        "def display_message():\n",
        "  \"\"\"Prints a message about what I'm learning in this chapter.\"\"\"\n",
        "  print(\"I am learning about functions in this chapter.\")\n",
        "\n",
        "display_message()\n",
        "print('\\nExercise 8.2')\n",
        "def favorite_book(title):\n",
        "  \"\"\"Prints a message about my favorite book.\"\"\"\n",
        "  print(\"One of my favorite books is \" + title + \".\")\n",
        "\n",
        "favorite_book(\"To Kill a Mockingbird\")"
      ],
      "metadata": {
        "colab": {
          "base_uri": "https://localhost:8080/"
        },
        "id": "rnarqNJGP4EN",
        "outputId": "e4e1b882-5a09-4afd-f58f-b8254dc4b986"
      },
      "execution_count": 2,
      "outputs": [
        {
          "output_type": "stream",
          "name": "stdout",
          "text": [
            "\n",
            "Exercise 8.1\n",
            "I am learning about functions in this chapter.\n",
            "\n",
            "Exercise 8.2\n",
            "One of my favorite books is To Kill a Mockingbird.\n"
          ]
        }
      ]
    },
    {
      "cell_type": "markdown",
      "source": [
        "8-3. T-Shirt: Write a function called make_shirt() that accepts a size and the\n",
        "text of a message that should be printed on the shirt. The function should print\n",
        "a sentence summarizing the size of the shirt and the message printed on it.\n",
        "Call the function once using positional arguments to make a shirt. Call the\n",
        "function a second time using keyword arguments.\n",
        "\n",
        "8-4. Large Shirts: Modify the make_shirt() function so that shirts are large\n",
        "by default with a message that reads I love Python. Make a large shirt and a\n",
        "medium shirt with the default message, and a shirt of any size with a different\n",
        "message.\n",
        "\n",
        "8-5. Cities: Write a function called describe_city() that accepts the name of\n",
        "a city and its country. The function should print a simple sentence, such as\n",
        "Reykjavik is in Iceland. Give the parameter for the country a default value.\n",
        "Call your function for three different cities, at least one of which is not in the default country."
      ],
      "metadata": {
        "id": "kXMY6ePyQO4Y"
      }
    },
    {
      "cell_type": "code",
      "source": [
        "print('\\nExercise 8.3')\n",
        "def make_shirt(size, message):\n",
        "    \"\"\"Prints a summary of the shirt size and message.\"\"\"\n",
        "    print(f\"The shirt size is {size} and the message is: {message}\")\n",
        "\n",
        "# Calling the function using positional arguments\n",
        "make_shirt('M', 'I love Python')\n",
        "\n",
        "# Calling the function using keyword arguments\n",
        "make_shirt(size='L', message='Keep calm and code on')\n",
        "\n",
        "print('\\nExercise 8.4')\n",
        "def make_shirt(size='L', message='I love Python'):\n",
        "    \"\"\"Prints a summary of the shirt size and message.\"\"\"\n",
        "    print(f\"The shirt size is {size} and the message is: {message}\")\n",
        "\n",
        "# Making a large shirt with the default message\n",
        "make_shirt()\n",
        "\n",
        "# Making a medium shirt with the default message\n",
        "make_shirt('M')\n",
        "\n",
        "# Making a shirt of any size with a different message\n",
        "make_shirt('S', 'Python is my jam')\n",
        "\n",
        "print('\\nExercise 8.5')\n",
        "\n",
        "def describe_city(city, country='USA'):\n",
        "    \"\"\"Prints a sentence about the city and country.\"\"\"\n",
        "    print(f\"{city} is in {country}.\")\n",
        "\n",
        "# Calling the function for three different cities\n",
        "describe_city('New York')\n",
        "describe_city('Paris', 'France')\n",
        "describe_city('Tokyo', 'Japan')\n"
      ],
      "metadata": {
        "colab": {
          "base_uri": "https://localhost:8080/"
        },
        "id": "ClHM3xR-Qabd",
        "outputId": "af9b6fa1-d255-4403-ed15-b22240b97631"
      },
      "execution_count": 3,
      "outputs": [
        {
          "output_type": "stream",
          "name": "stdout",
          "text": [
            "\n",
            "Exercise 8.3\n",
            "The shirt size is M and the message is: I love Python\n",
            "The shirt size is L and the message is: Keep calm and code on\n",
            "\n",
            "Exercise 8.4\n",
            "The shirt size is L and the message is: I love Python\n",
            "The shirt size is M and the message is: I love Python\n",
            "The shirt size is S and the message is: Python is my jam\n",
            "\n",
            "Exercise 8.5\n",
            "New York is in USA.\n",
            "Paris is in France.\n",
            "Tokyo is in Japan.\n"
          ]
        }
      ]
    },
    {
      "cell_type": "markdown",
      "source": [
        "8-6. City Names: Write a function called city_country() that takes in the name\n",
        "of a city and its country. The function should return a string formatted like this:\n",
        "\"Santiago, Chile\"\n",
        "Call your function with at least three city-country pairs, and print the value\n",
        "that’s returned.\n",
        "\n",
        "8-7. Album: Write a function called make_album() that builds a dictionary\n",
        "describing a music album. The function should take in an artist name and an\n",
        "album title, and it should return a dictionary containing these two pieces of\n",
        "information. Use the function to make three dictionaries representing different\n",
        "albums. Print each return value to show that the dictionaries are storing the\n",
        "album information correctly. Add an optional parameter to make_album() that allows you to store the number of tracks on an album. If the calling line includes a value for the number of tracks, add that value to the album’s dictionary. Make at least one new function call that includes the number of tracks on an album.\n",
        "\n",
        "8-8. User Albums: Start with your program from Exercise 8-7. Write a while\n",
        "loop that allows users to enter an album’s artist and title. Once you have that\n",
        "information, call make_album() with the user’s input and print the dictionary\n",
        "that’s created. Be sure to include a quit value in the while loop."
      ],
      "metadata": {
        "id": "D2PnUXPAQzc2"
      }
    },
    {
      "cell_type": "code",
      "source": [
        "print('\\nExercise 8.6')\n",
        "def city_country(city, country):\n",
        "    return f\"{city.title()}, {country.title()}\"\n",
        "\n",
        "print(city_country(\"santiago\", \"chile\"))\n",
        "print(city_country(\"new york city\", \"united states\"))\n",
        "print(city_country(\"london\", \"united kingdom\"))\n",
        "\n",
        "print('\\nExercise 8.7')\n",
        "def make_album(artist_name, album_title, num_tracks=None):\n",
        "    album = {\"artist\": artist_name, \"title\": album_title}\n",
        "    if num_tracks:\n",
        "        album[\"tracks\"] = num_tracks\n",
        "    return album\n",
        "\n",
        "album1 = make_album(\"Metallica\", \"Master of Puppets\", 8)\n",
        "album2 = make_album(\"Pink Floyd\", \"The Wall\")\n",
        "album3 = make_album(\"Led Zeppelin\", \"IV\", 8)\n",
        "\n",
        "print(album1)\n",
        "print(album2)\n",
        "print(album3)\n",
        "\n",
        "print('\\nExercise 8.8')\n",
        "\n",
        "def make_album(artist_name, album_title, num_tracks=None):\n",
        "    album = {\"artist\": artist_name, \"title\": album_title}\n",
        "    if num_tracks:\n",
        "        album[\"tracks\"] = num_tracks\n",
        "    return album\n",
        "\n",
        "while True:\n",
        "    print(\"\\nEnter album information:\")\n",
        "    print(\"(Enter 'q' at any time to quit)\")\n",
        "\n",
        "    artist = input(\"Artist name: \")\n",
        "    if artist == \"q\":\n",
        "        break\n",
        "\n",
        "    title = input(\"Album title: \")\n",
        "    if title == \"q\":\n",
        "        break\n",
        "\n",
        "    tracks = input(\"Number of tracks (optional): \")\n",
        "    if tracks == \"q\":\n",
        "        break\n",
        "    elif tracks:\n",
        "        album = make_album(artist, title, int(tracks))\n",
        "    else:\n",
        "        album = make_album(artist, title)\n",
        "\n",
        "    print(f\"\\nAlbum created: {album}\")\n"
      ],
      "metadata": {
        "colab": {
          "base_uri": "https://localhost:8080/"
        },
        "id": "oxsMJ-XQQuMw",
        "outputId": "e604cc53-c69a-4fda-9770-fe41a20d34ed"
      },
      "execution_count": 4,
      "outputs": [
        {
          "name": "stdout",
          "output_type": "stream",
          "text": [
            "\n",
            "Exercise 8.6\n",
            "Santiago, Chile\n",
            "New York City, United States\n",
            "London, United Kingdom\n",
            "\n",
            "Exercise 8.7\n",
            "{'artist': 'Metallica', 'title': 'Master of Puppets', 'tracks': 8}\n",
            "{'artist': 'Pink Floyd', 'title': 'The Wall'}\n",
            "{'artist': 'Led Zeppelin', 'title': 'IV', 'tracks': 8}\n",
            "\n",
            "Exercise 8.8\n",
            "\n",
            "Enter album information:\n",
            "(Enter 'q' at any time to quit)\n",
            "Artist name: Arijit singh\n",
            "Album title: Love mashup\n",
            "Number of tracks (optional): \n",
            "\n",
            "Album created: {'artist': 'Arijit singh', 'title': 'Love mashup'}\n",
            "\n",
            "Enter album information:\n",
            "(Enter 'q' at any time to quit)\n",
            "Artist name: q\n"
          ]
        }
      ]
    },
    {
      "cell_type": "markdown",
      "source": [
        "8-9. Magicians: Make a list of magician’s names. Pass the list to a function\n",
        "called show_magicians(), which prints the name of each magician in the list.\n",
        "\n",
        "8-10. Great Magicians: Start with a copy of your program from Exercise 8-9.\n",
        "Write a function called make_great() that modifies the list of magicians by adding the phrase the Great to each magician’s name. Call show_magicians() to see that the list has actually been modified.\n",
        "\n",
        "8-11. Unchanged Magicians: Start with your work from Exercise 8-10. Call the\n",
        "function make_great() with a copy of the list of magicians’ names. Because the\n",
        "original list will be unchanged, return the new list and store it in a separate list. Call show_magicians() with each list to show that you have one list of the original names and one list with the Great added to each magician’s name."
      ],
      "metadata": {
        "id": "H31Qk95NRnOS"
      }
    },
    {
      "cell_type": "code",
      "source": [
        "print('\\nExercise 8.9')\n",
        "def show_magicians(magicians):\n",
        "  for magician in magicians:\n",
        "    print(magician)\n",
        "\n",
        "magicians = ['David Copperfield', 'Harry Houdini', 'David Blaine']\n",
        "show_magicians(magicians)\n",
        "print('\\nExercise 8.10')\n",
        "def make_great(magicians):\n",
        "  for i in range(len(magicians)):\n",
        "    magicians[i] = \"The Great \" + magicians[i]\n",
        "\n",
        "make_great(magicians)\n",
        "show_magicians(magicians)\n",
        "\n",
        "print('\\nExercise 8.11')\n",
        "def make_great(magicians):\n",
        "  great_magicians = []\n",
        "  for magician in magicians:\n",
        "    great_magicians.append(\"The Great \" + magician)\n",
        "  return great_magicians\n",
        "\n",
        "magicians = ['David Copperfield', 'Harry Houdini', 'David Blaine']\n",
        "great_magicians = make_great(magicians[:])\n",
        "show_magicians(magicians)\n",
        "show_magicians(great_magicians)"
      ],
      "metadata": {
        "colab": {
          "base_uri": "https://localhost:8080/"
        },
        "id": "z-f3flFUR-J-",
        "outputId": "26a67492-ba3d-4c28-d925-830393a6a680"
      },
      "execution_count": 5,
      "outputs": [
        {
          "output_type": "stream",
          "name": "stdout",
          "text": [
            "\n",
            "Exercise 8.9\n",
            "David Copperfield\n",
            "Harry Houdini\n",
            "David Blaine\n",
            "\n",
            "Exercise 8.10\n",
            "The Great David Copperfield\n",
            "The Great Harry Houdini\n",
            "The Great David Blaine\n",
            "\n",
            "Exercise 8.11\n",
            "David Copperfield\n",
            "Harry Houdini\n",
            "David Blaine\n",
            "The Great David Copperfield\n",
            "The Great Harry Houdini\n",
            "The Great David Blaine\n"
          ]
        }
      ]
    },
    {
      "cell_type": "markdown",
      "source": [
        "8-12. Sandwiches: Write a function that accepts a list of items a person wants\n",
        "on a sandwich. The function should have one parameter that collects as many items as the function call provides, and it should print a summary of the sandwich that is being ordered. Call the function three times, using a different number of arguments each time.\n",
        "\n",
        "8-13. User Profile: Start with a copy of user_profile.py from page 153. Build\n",
        "a profile of yourself by calling build_profile(), using your first and last names and three other key-value pairs that describe you.\n",
        "\n",
        "8-14. Cars: Write a function that stores information about a car in a diction-\n",
        "ary. The function should always receive a manufacturer and a model name. It should then accept an arbitrary number of keyword arguments. Call the function with the required information and two other name-value pairs, such as a color or an optional feature. Your function should work for a call like this one:\n",
        "car = make_car('subaru', 'outback', color='blue', tow_package=True)\n",
        "Print the dictionary that’s returned to make sure all the information was\n",
        "stored correctly."
      ],
      "metadata": {
        "id": "jPkIFzoQSgLW"
      }
    },
    {
      "cell_type": "code",
      "source": [
        "print('\\nExercise 8.12')\n",
        "def make_sandwich(*items):\n",
        "  \"\"\"Make a sandwich with the given items.\"\"\"\n",
        "  print(\"Making a sandwich with the following items:\")\n",
        "  for item in items:\n",
        "    print(\"- \" + item)\n",
        "\n",
        "make_sandwich('turkey', 'lettuce', 'tomato')\n",
        "make_sandwich('ham', 'cheese')\n",
        "make_sandwich('peanut butter', 'jelly')\n",
        "print('\\nExercise 8.13')\n",
        "def build_profile(first, last, **user_info):\n",
        "  \"\"\"Build a dictionary containing everything we know about a user.\"\"\"\n",
        "  profile = {'first_name': first, 'last_name': last}\n",
        "  profile.update(user_info)\n",
        "  return profile\n",
        "\n",
        "user_profile = build_profile('John', 'Doe',\n",
        "location='San Francisco',\n",
        "field='Computer Science',\n",
        "hobby='Playing Guitar')\n",
        "print(user_profile)\n",
        "print('\\nExercise 8.14')\n",
        "\n",
        "def make_car(manufacturer, model, **car_info):\n",
        "  \"\"\"Create a dictionary representing a car.\"\"\"\n",
        "  car = {'manufacturer': manufacturer, 'model': model}\n",
        "  car.update(car_info)\n",
        "  return car\n",
        "\n",
        "car = make_car('subaru', 'outback', color='blue', tow_package=True)\n",
        "print(car)"
      ],
      "metadata": {
        "colab": {
          "base_uri": "https://localhost:8080/"
        },
        "id": "eD9-tsDbSbmZ",
        "outputId": "6e2b865c-19fc-4939-966b-c38611cf5ba1"
      },
      "execution_count": 7,
      "outputs": [
        {
          "output_type": "stream",
          "name": "stdout",
          "text": [
            "\n",
            "Exercise 8.12\n",
            "Making a sandwich with the following items:\n",
            "- turkey\n",
            "- lettuce\n",
            "- tomato\n",
            "Making a sandwich with the following items:\n",
            "- ham\n",
            "- cheese\n",
            "Making a sandwich with the following items:\n",
            "- peanut butter\n",
            "- jelly\n",
            "\n",
            "Exercise 8.13\n",
            "{'first_name': 'John', 'last_name': 'Doe', 'location': 'San Francisco', 'field': 'Computer Science', 'hobby': 'Playing Guitar'}\n",
            "\n",
            "Exercise 8.14\n",
            "{'manufacturer': 'subaru', 'model': 'outback', 'color': 'blue', 'tow_package': True}\n"
          ]
        }
      ]
    },
    {
      "cell_type": "markdown",
      "source": [
        "# The End 😃"
      ],
      "metadata": {
        "id": "6ilzf23pTGeN"
      }
    }
  ]
}