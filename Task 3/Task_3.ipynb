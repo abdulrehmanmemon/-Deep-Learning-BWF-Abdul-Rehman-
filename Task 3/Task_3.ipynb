{
  "nbformat": 4,
  "nbformat_minor": 0,
  "metadata": {
    "colab": {
      "provenance": []
    },
    "kernelspec": {
      "name": "python3",
      "display_name": "Python 3"
    },
    "language_info": {
      "name": "python"
    }
  },
  "cells": [
    {
      "cell_type": "markdown",
      "source": [
        "# ABDUL REHMAN\n",
        "## E-mail: a.rehmanmemon.034@gmail.com\n",
        "### Date Of Submission: 18/03/2023 \n"
      ],
      "metadata": {
        "id": "gKsv8lLPJm0q"
      }
    },
    {
      "cell_type": "markdown",
      "source": [
        "## Task 03\n",
        "\n",
        "Topics: Kicking Off with Python (Syntax, Variables, Datatypes, Code Execution)\n",
        "Resources: https://drive.google.com/file/d/12HEIuGU0NRgJutUQkMUhGKo-Nr_YWYdq/view?usp=share_link\n",
        "\n",
        "Directions: Learn about the specified topics mentioned above and then there are small snippet boxes after each topic in the resource that are usually the exercises on what you learnt. You are going to perform those exercises and make a folder or file with the task name and push it to your GitHub repo which you just defined in last task.\n",
        "\n",
        "\n",
        "**I have completed some of the exercise from each chapter**"
      ],
      "metadata": {
        "id": "JQA3VrTC5LkU"
      }
    },
    {
      "cell_type": "markdown",
      "source": [
        "## Chapter 2: Variables and Simple Data Types\n",
        "2-1. Simple Message: Store a message in a variable, and then print that\n",
        "message.\n",
        "\n",
        "2-2. Simple Messages: Store a message in a variable, and print that message.\n",
        "Then change the value of your variable to a new message, and print the new\n",
        "message."
      ],
      "metadata": {
        "id": "ca7wfH2GGw_m"
      }
    },
    {
      "cell_type": "code",
      "source": [
        "print('Exercise: 2.1')\n",
        "msg='Hello my name is Abdul Rehman'\n",
        "print(msg)"
      ],
      "metadata": {
        "colab": {
          "base_uri": "https://localhost:8080/"
        },
        "id": "dBxatp3XHcL5",
        "outputId": "4ff8c044-765b-47ce-f238-27070be65271"
      },
      "execution_count": 2,
      "outputs": [
        {
          "output_type": "stream",
          "name": "stdout",
          "text": [
            "Exercise: 2.1\n",
            "Hello my name is Abdul Rehman\n"
          ]
        }
      ]
    },
    {
      "cell_type": "code",
      "source": [
        "print('Exercise: 2.2')\n",
        "msg='Hello my name is Abdul Rehman'\n",
        "print(msg)\n",
        "msg=\"Message has been changed\"\n",
        "print(msg)"
      ],
      "metadata": {
        "colab": {
          "base_uri": "https://localhost:8080/"
        },
        "id": "bV_2rW5oHs28",
        "outputId": "e11b1acc-9421-4338-eed2-30223fccc29c"
      },
      "execution_count": 3,
      "outputs": [
        {
          "output_type": "stream",
          "name": "stdout",
          "text": [
            "Exercise: 2.2\n",
            "Hello my name is Abdul Rehman\n",
            "Message has been changed\n"
          ]
        }
      ]
    },
    {
      "cell_type": "markdown",
      "source": [
        "\n",
        "\n",
        "2-3. Personal Message: Store a person’s name in a variable, and print a mes-\n",
        "sage to that person. Your message should be simple, such as, “Hello Eric, would you like to learn some Python today?”\n",
        "\n",
        "2-4. Name Cases: Store a person’s name in a variable, and then print that per-\n",
        "son’s name in lowercase, uppercase, and titlecase.\n",
        "\n",
        "2-5. Famous Quote: Find a quote from a famous person you admire. Print the\n",
        "quote and the name of its author. Your output should look something like the\n",
        "following, including the quotation marks:\n",
        "Albert Einstein once said, “A person who never made a\n",
        "mistake never tried anything new.”\n",
        "\n",
        "2-6. Famous Quote 2: Repeat Exercise 2-5, but this time store the famous per-\n",
        "son’s name in a variable called famous_person. Then compose your message and store it in a new variable called message. Print your message.\n",
        "\n",
        "2-7. Stripping Names: Store a person’s name, and include some whitespace\n",
        "characters at the beginning and end of the name. Make sure you use each\n",
        "character combination, \"\\t\" and \"\\n\", at least once.\n",
        "Print the name once, so the whitespace around the name is displayed.\n",
        "Then print the name using each of the three stripping functions, lstrip(),\n",
        "rstrip(), and strip()."
      ],
      "metadata": {
        "id": "kqnBZoMk6jFo"
      }
    },
    {
      "cell_type": "code",
      "source": [
        "print('Exercise: 2.3')\n",
        "Name = 'Abdul Rehman'\n",
        "print('Hello '+ Name + ' How are you?')\n",
        "\n",
        "print('Exercise: 2.4')\n",
        "print('Upper case: '+Name.upper()+\"\\nLower Case: \"+Name.lower()+\"\\nTitle case: \"+Name.title()) \n",
        "\n",
        "print('Exercise: 2.5')\n",
        "print('Steve Jobs once said, \"Innovation distinguishes between a leader and a follower\"')\n",
        "\n",
        "\n",
        "print('Exercise: 2.6')\n",
        "famous_person = \"Steve Jobs\"\n",
        "message = famous_person + ' once said, \"Innovation distinguishes between a leader and a follower\"'\n",
        "print(message)\n",
        "\n",
        "print('Exercise: 2.7')\n",
        "person = \"\\tAbdul Rehman   \"\n",
        "print('non-strip():' + person)\n",
        "print('strip():',person.strip())\n",
        "print('rstrip():',person.rstrip())\n",
        "print('lstrip():',person.lstrip())\n"
      ],
      "metadata": {
        "colab": {
          "base_uri": "https://localhost:8080/"
        },
        "id": "BK_7p0cF7Ok1",
        "outputId": "7650d020-f493-4bb4-88c7-6a455b907db6"
      },
      "execution_count": null,
      "outputs": [
        {
          "output_type": "stream",
          "name": "stdout",
          "text": [
            "Exercise: 2.3\n",
            "Hello Abdul Rehman How are you?\n",
            "Exercise: 2.4\n",
            "Upper case: ABDUL REHMAN\n",
            "Lower Case: abdul rehman\n",
            "Title case: Abdul Rehman\n",
            "Exercise: 2.5\n",
            "Steve Jobs once said, \"Innovation distinguishes between a leader and a follower\"\n",
            "Exercise: 2.6\n",
            "Steve Jobs once said, \"Innovation distinguishes between a leader and a follower\"\n",
            "Exercise: 2.7\n",
            "non-strip():\tAbdul Rehman   \n",
            "strip(): Abdul Rehman\n",
            "rstrip(): \tAbdul Rehman\n",
            "lstrip(): Abdul Rehman   \n"
          ]
        }
      ]
    },
    {
      "cell_type": "markdown",
      "source": [
        "2-8. Number Eight: Write addition, subtraction, multiplication, and division\n",
        "operations that each result in the number 8. Be sure to enclose your operations\n",
        "in print statements to see the results. You should create four lines that look\n",
        "like this:\n",
        "\n",
        "`print(5 + 3)`\n",
        "\n",
        "**Your output should simply be four lines with the number 8 appearing once\n",
        "on each line.**\n",
        "\n",
        "2-9. Favorite Number: Store your favorite number in a variable. Then, using\n",
        "that variable, create a message that reveals your favorite number. Print that\n",
        "message."
      ],
      "metadata": {
        "id": "6Nr8xcskIDED"
      }
    },
    {
      "cell_type": "code",
      "source": [
        "print('Exercise: 2.8')\n",
        "print(5+3)\n",
        "print(16-8)\n",
        "print(2*4)\n",
        "print(16//2)"
      ],
      "metadata": {
        "colab": {
          "base_uri": "https://localhost:8080/"
        },
        "id": "l-8gX6PRIFwv",
        "outputId": "e48a81a9-ac05-4a90-a59d-15e68ccdd141"
      },
      "execution_count": 4,
      "outputs": [
        {
          "output_type": "stream",
          "name": "stdout",
          "text": [
            "Exercise: 2.8\n",
            "8\n",
            "8\n",
            "8\n",
            "8\n"
          ]
        }
      ]
    },
    {
      "cell_type": "code",
      "source": [
        "print('Exercise: 2.9')\n",
        "fav_num=43\n",
        "print(f\"My favourite number is {fav_num}\")"
      ],
      "metadata": {
        "colab": {
          "base_uri": "https://localhost:8080/"
        },
        "id": "GsZRsPRNIonR",
        "outputId": "80758820-98e6-40d0-cca6-b8654b30e2e3"
      },
      "execution_count": 5,
      "outputs": [
        {
          "output_type": "stream",
          "name": "stdout",
          "text": [
            "Exercise: 2.9\n",
            "My favourite number is 43\n"
          ]
        }
      ]
    },
    {
      "cell_type": "markdown",
      "source": [
        "2-10. Adding Comments: Choose two of the programs you’ve written, and\n",
        "add at least one comment to each. If you don’t have anything specific to write\n",
        "because your programs are too simple at this point, just add your name and\n",
        "the current date at the top of each program file. Then write one sentence\n",
        "describing what the program does."
      ],
      "metadata": {
        "id": "3SRlEitRJGCR"
      }
    },
    {
      "cell_type": "code",
      "source": [
        "#task 2.8 and 2.9\n",
        "print('Exercise: 2.8')\n",
        "#performing basic mathematical operations\n",
        "print(5+3)\n",
        "print(16-8)\n",
        "print(2*4)\n",
        "print(16//2)\n",
        "\n",
        "print('Exercise: 2.9')\n",
        "fav_num=43 #storing favourite number\n",
        "print(f\"My favourite number is {fav_num}\")"
      ],
      "metadata": {
        "colab": {
          "base_uri": "https://localhost:8080/"
        },
        "id": "fGBmiNoRJHrk",
        "outputId": "bf6a541f-58da-4748-e45d-d71e37f8cd2f"
      },
      "execution_count": 6,
      "outputs": [
        {
          "output_type": "stream",
          "name": "stdout",
          "text": [
            "Exercise: 2.8\n",
            "8\n",
            "8\n",
            "8\n",
            "8\n",
            "Exercise: 2.9\n",
            "My favourite number is 43\n"
          ]
        }
      ]
    },
    {
      "cell_type": "code",
      "source": [
        "#Zen of python\n",
        "import this"
      ],
      "metadata": {
        "colab": {
          "base_uri": "https://localhost:8080/"
        },
        "id": "QyzFePhB8I-5",
        "outputId": "6465b38a-965d-4820-ee06-06ad3c7fd12c"
      },
      "execution_count": null,
      "outputs": [
        {
          "output_type": "stream",
          "name": "stdout",
          "text": [
            "The Zen of Python, by Tim Peters\n",
            "\n",
            "Beautiful is better than ugly.\n",
            "Explicit is better than implicit.\n",
            "Simple is better than complex.\n",
            "Complex is better than complicated.\n",
            "Flat is better than nested.\n",
            "Sparse is better than dense.\n",
            "Readability counts.\n",
            "Special cases aren't special enough to break the rules.\n",
            "Although practicality beats purity.\n",
            "Errors should never pass silently.\n",
            "Unless explicitly silenced.\n",
            "In the face of ambiguity, refuse the temptation to guess.\n",
            "There should be one-- and preferably only one --obvious way to do it.\n",
            "Although that way may not be obvious at first unless you're Dutch.\n",
            "Now is better than never.\n",
            "Although never is often better than *right* now.\n",
            "If the implementation is hard to explain, it's a bad idea.\n",
            "If the implementation is easy to explain, it may be a good idea.\n",
            "Namespaces are one honking great idea -- let's do more of those!\n"
          ]
        }
      ]
    },
    {
      "cell_type": "markdown",
      "source": [
        "#The End"
      ],
      "metadata": {
        "id": "QDbMzYtUJ_KN"
      }
    }
  ]
}