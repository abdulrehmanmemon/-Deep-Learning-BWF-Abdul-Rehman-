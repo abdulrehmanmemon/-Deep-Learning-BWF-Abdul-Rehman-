{
  "nbformat": 4,
  "nbformat_minor": 0,
  "metadata": {
    "colab": {
      "provenance": []
    },
    "kernelspec": {
      "name": "python3",
      "display_name": "Python 3"
    },
    "language_info": {
      "name": "python"
    }
  },
  "cells": [
    {
      "cell_type": "markdown",
      "source": [
        "# ABDUL REHMAN\n",
        "## E-mail: a.rehmanmemon.034@gmail.com\n",
        "### Date Of Submission: 23/04/2023"
      ],
      "metadata": {
        "id": "64exK-Od411l"
      }
    },
    {
      "cell_type": "markdown",
      "source": [
        "#🔴 Task 19\n",
        "\n",
        "Topics: Introduction to Deep Learning,  Building Block of Deep Learning, A look on Neural Network, Tensor Operations\n",
        "\n",
        "Resource: https://drive.google.com/file/d/1i9dPxM_1M4HYN5bYxFcuklC1vM0GrOCq/view?usp=share_link"
      ],
      "metadata": {
        "id": "vPDGOaQo4wQc"
      }
    },
    {
      "cell_type": "markdown",
      "source": [
        "#                                    My Notes"
      ],
      "metadata": {
        "id": "CTgDHlzQ6ofV"
      }
    },
    {
      "cell_type": "markdown",
      "source": [
        "1. Node: A node, also called an artificial neuron, is the basic unit of a neural network. It receives input from other nodes or from external sources, applies a transformation function to the input, and produces an output that is sent to other nodes or to the output layer.\n",
        "\n",
        "2. Layer: A layer is a group of nodes that perform a specific function within a neural network. There are typically three types of layers in a neural network: input layer, hidden layer, and output layer. The input layer receives input data, the hidden layer(s) perform processing and analysis of the data, and the output layer produces the final output or prediction.\n",
        "\n",
        "3. Weights: Weights are the parameters of a neural network that determine the strength of the connections between nodes. They are typically initialized randomly and adjusted during the training process to optimize the network's performance.\n",
        "\n",
        "4. Activation function: An activation function is a mathematical function that is applied to the output of a node to produce its final output value. Common activation functions include sigmoid, ReLU, and tanh.\n",
        "\n",
        "5. Backpropagation: Backpropagation is a technique used in the training of neural networks. It involves computing the gradient of the network's error with respect to its weights, and using this information to update the weights in a way that reduces the error.\n",
        "\n",
        "6. Bias: Bias is an additional parameter that is added to each node in a neural network. It allows the network to shift the activation function to the left or right, which can improve its ability to fit the data.\n",
        "\n",
        "7. Cost function: A cost function, also known as a loss function, is a mathematical function that is used to evaluate the performance of a neural network. It measures the difference between the network's predicted output and the actual output, and is used to guide the training process.\n",
        "\n",
        "8. Gradient descent: Gradient descent is an optimization algorithm used in the training of neural networks. It involves computing the gradient of the cost function with respect to the network's weights, and updating the weights in a way that reduces the cost function.\n",
        "\n",
        "9. Dropout: Dropout is a regularization technique used in neural networks to prevent overfitting. It involves randomly dropping out a percentage of nodes during each training iteration, which can improve the network's ability to generalize to new data.\n",
        "\n",
        "10. Learning rate: The learning rate is a hyperparameter that controls how much the weights of a neural network are updated during training. It is typically set to a small value to prevent large updates that can cause the network to overshoot the optimal weights.\n",
        "\n",
        "11. Feedforward neural network: A feedforward neural network is a type of neural network where the information flows in only one direction, from the input layer to the output layer. It is commonly used for classification and regression tasks.\n",
        "\n",
        "12. Overfitting: Overfitting occurs when a neural network is trained too well on a particular dataset, to the point where it starts to memorize the data rather than learning general patterns. This can lead to poor performance on new, unseen data."
      ],
      "metadata": {
        "id": "QmVwN2W_48FP"
      }
    },
    {
      "cell_type": "markdown",
      "source": [
        "**I will be adding more new things as i found something relevent**"
      ],
      "metadata": {
        "id": "rPNNo8Wm6nC7"
      }
    },
    {
      "cell_type": "code",
      "source": [],
      "metadata": {
        "id": "EBYp6RhC7AMm"
      },
      "execution_count": null,
      "outputs": []
    }
  ]
}