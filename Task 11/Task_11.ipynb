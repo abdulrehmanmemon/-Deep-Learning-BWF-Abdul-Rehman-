{
  "nbformat": 4,
  "nbformat_minor": 0,
  "metadata": {
    "colab": {
      "provenance": []
    },
    "kernelspec": {
      "name": "python3",
      "display_name": "Python 3"
    },
    "language_info": {
      "name": "python"
    }
  },
  "cells": [
    {
      "cell_type": "markdown",
      "source": [
        "# ABDUL REHMAN\n",
        "## E-mail: a.rehmanmemon.034@gmail.com\n",
        "### Date Of Submission: 31/03/2023"
      ],
      "metadata": {
        "id": "ekCBAEkfAOFl"
      }
    },
    {
      "cell_type": "markdown",
      "source": [
        "##Task 11\n",
        "Linear Alegbra with Numpy, Statistical Functions with Numpy\n",
        "\n",
        "Resource: https://drive.google.com/file/d/1ILp88f3u_KgJ_nlhTSsAVGdmZlICGhhd/view?usp=share_link\n",
        "\n",
        "Directions: Try to explore basic Linear Algebra and Stats things such as mean, media mode, quantiles, rank, probability distribution etc. and more. Implement them using Numpy. Respective topics may not be completely available in the given resource, you can explore."
      ],
      "metadata": {
        "id": "Inu4F3bgATX6"
      }
    },
    {
      "cell_type": "markdown",
      "source": [
        "#Statistics "
      ],
      "metadata": {
        "id": "ooNCdlMLAeR9"
      }
    },
    {
      "cell_type": "code",
      "source": [
        "import numpy as np\n",
        "\n",
        "# Creating an array\n",
        "a = np.array([10, 20, 30, 40, 50])\n",
        "\n",
        "# Mean\n",
        "mean = np.mean(a)\n",
        "print(\"Mean:\", mean)\n",
        "\n",
        "# Median\n",
        "median = np.median(a)\n",
        "print(\"Median:\", median)"
      ],
      "metadata": {
        "colab": {
          "base_uri": "https://localhost:8080/"
        },
        "id": "dHOtg6_KBLQy",
        "outputId": "e74e2544-f86f-4ccc-b182-a5e991c8fbc6"
      },
      "execution_count": 3,
      "outputs": [
        {
          "output_type": "stream",
          "name": "stdout",
          "text": [
            "Mean: 30.0\n",
            "Median: 30.0\n"
          ]
        }
      ]
    },
    {
      "cell_type": "markdown",
      "source": [
        "###Quantiles\n",
        "Quantiles divide a dataset into equal portions. For example, the median is a quantile that divides a dataset into two equal halves. The 25th percentile is a quantile that divides a dataset into quarters."
      ],
      "metadata": {
        "id": "XTVhATmUBPOb"
      }
    },
    {
      "cell_type": "code",
      "source": [
        "\n",
        "\n",
        "# Creating an array\n",
        "a = np.array([10, 20, 30, 40, 50])\n",
        "\n",
        "# 25th percentile\n",
        "p25 = np.percentile(a, 25)\n",
        "print(\"25th percentile:\", p25)\n",
        "\n",
        "# 50th percentile (median)\n",
        "p50 = np.percentile(a, 50)\n",
        "print(\"50th percentile (median):\", p50)\n",
        "\n",
        "# 75th percentile\n",
        "p75 = np.percentile(a, 75)\n",
        "print(\"75th percentile:\", p75)"
      ],
      "metadata": {
        "colab": {
          "base_uri": "https://localhost:8080/"
        },
        "id": "1Wb7mrMfBUEK",
        "outputId": "2b5d3180-0b50-4ad6-8c51-0fce8395bae4"
      },
      "execution_count": 10,
      "outputs": [
        {
          "output_type": "stream",
          "name": "stdout",
          "text": [
            "25th percentile: 20.0\n",
            "50th percentile (median): 30.0\n",
            "75th percentile: 40.0\n"
          ]
        }
      ]
    },
    {
      "cell_type": "markdown",
      "source": [
        "###Rank\n",
        "Rank refers to the position of a value within a dataset when it is sorted in ascending or descending order. \n",
        "For example, the highest value in a dataset has a rank of 1, the second highest value has a rank of 2, and so on."
      ],
      "metadata": {
        "id": "Ko7cmpCsBceK"
      }
    },
    {
      "cell_type": "code",
      "source": [
        "\n",
        "\n",
        "# Creating an array\n",
        "a = np.array([10, 20, 30, 40, 50])\n",
        "\n",
        "# Rank\n",
        "rank = np.argsort(np.argsort(a))\n",
        "print(\"Rank:\", rank)\n"
      ],
      "metadata": {
        "colab": {
          "base_uri": "https://localhost:8080/"
        },
        "id": "sYSbrJa3Bgxs",
        "outputId": "6c2cddca-efbd-4176-fcce-935a8e1c51ec"
      },
      "execution_count": 9,
      "outputs": [
        {
          "output_type": "stream",
          "name": "stdout",
          "text": [
            "Rank: [0 1 2 3 4]\n"
          ]
        }
      ]
    },
    {
      "cell_type": "markdown",
      "source": [
        "###Probability Distribution\n",
        "A probability distribution is a function that describes the likelihood of different outcomes in a random event. \n",
        "There are many different types of probability distributions, including normal distribution, Poisson distribution, and binomial distribution.\n",
        "\n",
        "\n",
        "\n",
        "####Generate a normal distribution"
      ],
      "metadata": {
        "id": "Vh2VvSmeBit5"
      }
    },
    {
      "cell_type": "code",
      "source": [
        "\n",
        "import matplotlib.pyplot as plt\n",
        "\n",
        "# Mean and standard deviation\n",
        "mu, sigma = 0, 0.1\n",
        "\n",
        "# Generating 1000 random samples from normal distribution\n",
        "s = np.random.normal(mu, sigma, 1000)\n",
        "\n",
        "# Histogram of the samples\n",
        "count, bins, ignored = plt.hist(s, 30, density=True)\n",
        "\n",
        "# Plotting the normal distribution curve\n",
        "plt.plot(bins, 1/(sigma * np.sqrt(2 * np.pi)) *\n",
        "         np.exp(- (bins - mu)**2 / (2 * sigma**2)), \n",
        "         linewidth=2, color='r')\n",
        "plt.show()\n"
      ],
      "metadata": {
        "colab": {
          "base_uri": "https://localhost:8080/",
          "height": 430
        },
        "id": "0moc5KZ9BnhJ",
        "outputId": "f1813dac-ca24-42f0-b664-cafcaa0cd1b6"
      },
      "execution_count": 8,
      "outputs": [
        {
          "output_type": "display_data",
          "data": {
            "text/plain": [
              "<Figure size 640x480 with 1 Axes>"
            ],
            "image/png": "[encoded data removed]"
          },
          "metadata": {}
        }
      ]
    },
    {
      "cell_type": "markdown",
      "source": [
        "#Linear Algebra"
      ],
      "metadata": {
        "id": "9jvTVSuEBzBJ"
      }
    },
    {
      "cell_type": "markdown",
      "source": [
        "Matrix Creation"
      ],
      "metadata": {
        "id": "Evtccls1CGOs"
      }
    },
    {
      "cell_type": "code",
      "source": [
        "\n",
        "# Creating a matrix using np.array()\n",
        "A = np.array([[1, 2], [3, 4]])\n",
        "print(\"Matrix A:\")\n",
        "print(A)\n",
        "\n",
        "# Creating a matrix of all zeros using np.zeros()\n",
        "B = np.zeros((2, 3))\n",
        "print(\"Matrix B:\")\n",
        "print(B)\n",
        "\n",
        "# Creating a matrix of all ones using np.ones()\n",
        "C = np.ones((3, 2))\n",
        "print(\"Matrix C:\")\n",
        "print(C)\n",
        "\n",
        "# Creating a diagonal matrix using np.diag()\n",
        "D = np.diag([1, 2, 3])\n",
        "print(\"Matrix D:\")\n",
        "print(D)\n"
      ],
      "metadata": {
        "colab": {
          "base_uri": "https://localhost:8080/"
        },
        "id": "2RU9bQh8CBYF",
        "outputId": "25aeac78-aedb-433f-c8a0-ac6de92e8779"
      },
      "execution_count": 11,
      "outputs": [
        {
          "output_type": "stream",
          "name": "stdout",
          "text": [
            "Matrix A:\n",
            "[[1 2]\n",
            " [3 4]]\n",
            "Matrix B:\n",
            "[[0. 0. 0.]\n",
            " [0. 0. 0.]]\n",
            "Matrix C:\n",
            "[[1. 1.]\n",
            " [1. 1.]\n",
            " [1. 1.]]\n",
            "Matrix D:\n",
            "[[1 0 0]\n",
            " [0 2 0]\n",
            " [0 0 3]]\n"
          ]
        }
      ]
    },
    {
      "cell_type": "markdown",
      "source": [
        "Matrix Operations"
      ],
      "metadata": {
        "id": "j7HEJjDKCL4b"
      }
    },
    {
      "cell_type": "code",
      "source": [
        "\n",
        "# Creating matrices\n",
        "A = np.array([[1, 2], [3, 4]])\n",
        "B = np.array([[5, 6], [7, 8]])\n",
        "\n",
        "# Matrix addition\n",
        "C = A + B\n",
        "print(\"Matrix Addition:\")\n",
        "print(C)\n",
        "\n",
        "# Matrix subtraction\n",
        "D = A - B\n",
        "print(\"Matrix Subtraction:\")\n",
        "print(D)\n",
        "\n",
        "# Scalar multiplication\n",
        "E = 2 * A\n",
        "print(\"Scalar Multiplication:\")\n",
        "print(E)\n",
        "\n",
        "# Matrix multiplication\n",
        "F = np.dot(A, B)\n",
        "print(\"Matrix Multiplication:\")\n",
        "print(F)\n",
        "\n",
        "# Transpose of a matrix\n",
        "G = A.T\n",
        "print(\"Transpose of a Matrix:\")\n",
        "print(G)\n"
      ],
      "metadata": {
        "colab": {
          "base_uri": "https://localhost:8080/"
        },
        "id": "-eoUvIkgCJRz",
        "outputId": "b458c48b-3cb9-4eb4-ea9e-683dca9ed9dd"
      },
      "execution_count": 12,
      "outputs": [
        {
          "output_type": "stream",
          "name": "stdout",
          "text": [
            "Matrix Addition:\n",
            "[[ 6  8]\n",
            " [10 12]]\n",
            "Matrix Subtraction:\n",
            "[[-4 -4]\n",
            " [-4 -4]]\n",
            "Scalar Multiplication:\n",
            "[[2 4]\n",
            " [6 8]]\n",
            "Matrix Multiplication:\n",
            "[[19 22]\n",
            " [43 50]]\n",
            "Transpose of a Matrix:\n",
            "[[1 3]\n",
            " [2 4]]\n"
          ]
        }
      ]
    },
    {
      "cell_type": "markdown",
      "source": [
        "Solving Linear Equations"
      ],
      "metadata": {
        "id": "FBQ1My0LCWa8"
      }
    },
    {
      "cell_type": "code",
      "source": [
        "\n",
        "\n",
        "# Solving a system of linear equations\n",
        "A = np.array([[2, 1], [1, 1]])\n",
        "B = np.array([3, 2])\n",
        "x = np.linalg.solve(A, B)\n",
        "print(\"Solution:\")\n",
        "print(x)\n"
      ],
      "metadata": {
        "colab": {
          "base_uri": "https://localhost:8080/"
        },
        "id": "30Fjb_6HCO3p",
        "outputId": "f1cbf0bf-4335-4187-b1c6-4a5deb40bebe"
      },
      "execution_count": 14,
      "outputs": [
        {
          "output_type": "stream",
          "name": "stdout",
          "text": [
            "Solution:\n",
            "[1. 1.]\n"
          ]
        }
      ]
    },
    {
      "cell_type": "markdown",
      "source": [
        "Eigenvalues and Eigenvectors"
      ],
      "metadata": {
        "id": "PalZJ-HICdXu"
      }
    },
    {
      "cell_type": "code",
      "source": [
        "# Eigenvalues and eigenvectors\n",
        "A = np.array([[2, 1], [1, 3]])\n",
        "eig_vals, eig_vecs = np.linalg.eig(A)\n",
        "print(\"Eigenvalues:\")\n",
        "print(eig_vals)\n",
        "print(\"Eigenvectors:\")\n",
        "print(eig_vecs)"
      ],
      "metadata": {
        "colab": {
          "base_uri": "https://localhost:8080/"
        },
        "id": "iyFDdDPXCYXR",
        "outputId": "914623a7-307d-4b29-e41c-8b6217aa3dbb"
      },
      "execution_count": 15,
      "outputs": [
        {
          "output_type": "stream",
          "name": "stdout",
          "text": [
            "Eigenvalues:\n",
            "[1.38196601 3.61803399]\n",
            "Eigenvectors:\n",
            "[[-0.85065081 -0.52573111]\n",
            " [ 0.52573111 -0.85065081]]\n"
          ]
        }
      ]
    },
    {
      "cell_type": "markdown",
      "source": [
        "# The End 😃"
      ],
      "metadata": {
        "id": "4JLa6tkSCf0p"
      }
    }
  ]
}