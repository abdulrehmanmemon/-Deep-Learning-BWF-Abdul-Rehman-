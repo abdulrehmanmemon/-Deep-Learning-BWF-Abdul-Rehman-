{
  "nbformat": 4,
  "nbformat_minor": 0,
  "metadata": {
    "colab": {
      "provenance": []
    },
    "kernelspec": {
      "name": "python3",
      "display_name": "Python 3"
    },
    "language_info": {
      "name": "python"
    }
  },
  "cells": [
    {
      "cell_type": "markdown",
      "source": [
        "# ABDUL REHMAN\n",
        "## E-mail: a.rehmanmemon.034@gmail.com\n",
        "### Date Of Submission: 29/03/2023"
      ],
      "metadata": {
        "id": "d8zpLXj332wi"
      }
    },
    {
      "cell_type": "markdown",
      "source": [
        "##Task 10\n",
        "\n",
        "Topics: Introduction to Numpy, Numpy Arrays\n",
        "\n",
        "Resource: https://drive.google.com/file/d/1ILp88f3u_KgJ_nlhTSsAVGdmZlICGhhd/view?usp=share_link\n",
        "\n",
        "Directions: Learn about Numpy arrays and try to make with single and multi dimensions, perform simple arithmetic operations using two multi dimensional arrays. Submit these practiced tasks on GitHub."
      ],
      "metadata": {
        "id": "LJ5_cNoG36Cz"
      }
    },
    {
      "cell_type": "markdown",
      "source": [
        "#CHAPTER 4 NumPy Basics: Arrays and Vectorized Computation"
      ],
      "metadata": {
        "id": "MknzwsDN3pvP"
      }
    },
    {
      "cell_type": "code",
      "source": [
        "import numpy as np"
      ],
      "metadata": {
        "id": "g4OrTOkW95pM"
      },
      "execution_count": 2,
      "outputs": []
    },
    {
      "cell_type": "code",
      "source": [
        "\n",
        "#1d array\n",
        "arr2=np.array([12,31,23,34])\n",
        "print(\"First element of arr1: \",arr1[0])\n",
        "print(\"total numbers in arr1: \",len(arr1))\n",
        "arr3=np.array([12,31,23,34])\n",
        "# Sum the two 1D arrays\n",
        "arr_sum = arr2 + arr3\n",
        "\n",
        "# Subtract the two 1D arrays\n",
        "arr_diff = arr2 - arr3\n",
        "\n",
        "# Multiply the two 1D arrays\n",
        "arr_prod = arr2 * arr3\n",
        "\n",
        "# Divide the two 1D arrays\n",
        "arr_div = arr2 / arr3\n",
        "\n",
        "# Print the arrays and their results\n",
        "\n",
        "print(\"1D array 1: \\n\", arr2)\n",
        "print(\"1D array 2: \\n\", arr3)\n",
        "print(\"Addition result: \\n\", arr_sum)\n",
        "print(\"Subtraction result: \\n\", arr_diff)\n",
        "print(\"Multiplication result: \\n\", arr_prod)\n",
        "print(\"Division result: \\n\", arr_div)"
      ],
      "metadata": {
        "colab": {
          "base_uri": "https://localhost:8080/"
        },
        "id": "sR1jIjCv9TTd",
        "outputId": "bb29d8e4-bd60-47fe-8580-845a8111faad"
      },
      "execution_count": 4,
      "outputs": [
        {
          "output_type": "stream",
          "name": "stdout",
          "text": [
            "Exercise 4.1\n",
            "First element of arr1:  12\n",
            "total numbers in arr1:  4\n",
            "1D array 1: \n",
            " [12 31 23 34]\n",
            "1D array 2: \n",
            " [12 31 23 34]\n",
            "Addition result: \n",
            " [24 62 46 68]\n",
            "Subtraction result: \n",
            " [0 0 0 0]\n",
            "Multiplication result: \n",
            " [ 144  961  529 1156]\n",
            "Division result: \n",
            " [1. 1. 1. 1.]\n"
          ]
        }
      ]
    },
    {
      "cell_type": "code",
      "source": [
        "# Create a 2D array\n",
        "arr2 = np.array([[1, 2, 3], [4, 5, 6], [7, 8, 9]])\n",
        "\n",
        "# Create another 2D array\n",
        "arr3 = np.array([[9, 8, 7], [6, 5, 4], [3, 2, 1]])\n",
        "\n",
        "# Add the two 2D arrays\n",
        "arr_sum = arr2 + arr3\n",
        "\n",
        "# Subtract the two 2D arrays\n",
        "arr_diff = arr2 - arr3\n",
        "\n",
        "# Multiply the two 2D arrays\n",
        "arr_prod = arr2 * arr3\n",
        "\n",
        "# Divide the two 2D arrays\n",
        "arr_div = arr2 / arr3\n",
        "\n",
        "# Print the arrays and their results\n",
        "\n",
        "print(\"2D array 1: \\n\", arr2)\n",
        "print(\"2D array 2: \\n\", arr3)\n",
        "print(\"Addition result: \\n\", arr_sum)\n",
        "print(\"Subtraction result: \\n\", arr_diff)\n",
        "print(\"Multiplication result: \\n\", arr_prod)\n",
        "print(\"Division result: \\n\", arr_div)"
      ],
      "metadata": {
        "colab": {
          "base_uri": "https://localhost:8080/"
        },
        "id": "nLNjR7ZT9yrP",
        "outputId": "8e858012-b25b-4db1-8cde-93abda2fd1dd"
      },
      "execution_count": 5,
      "outputs": [
        {
          "output_type": "stream",
          "name": "stdout",
          "text": [
            "2D array 1: \n",
            " [[1 2 3]\n",
            " [4 5 6]\n",
            " [7 8 9]]\n",
            "2D array 2: \n",
            " [[9 8 7]\n",
            " [6 5 4]\n",
            " [3 2 1]]\n",
            "Addition result: \n",
            " [[10 10 10]\n",
            " [10 10 10]\n",
            " [10 10 10]]\n",
            "Subtraction result: \n",
            " [[-8 -6 -4]\n",
            " [-2  0  2]\n",
            " [ 4  6  8]]\n",
            "Multiplication result: \n",
            " [[ 9 16 21]\n",
            " [24 25 24]\n",
            " [21 16  9]]\n",
            "Division result: \n",
            " [[0.11111111 0.25       0.42857143]\n",
            " [0.66666667 1.         1.5       ]\n",
            " [2.33333333 4.         9.        ]]\n"
          ]
        }
      ]
    },
    {
      "cell_type": "code",
      "source": [
        "# Create a 3D array\n",
        "arr3d_1 = np.array([[[1, 2], [3, 4]], [[5, 6], [7, 8]]])\n",
        "arr3d_2 = np.array([[[8, 7], [6, 5]], [[4, 3], [2, 1]]])\n",
        "\n",
        "# Add the two 3D arrays\n",
        "arr_sum = arr3d_1 + arr3d_2\n",
        "\n",
        "# Subtract the two 3D arrays\n",
        "arr_diff = arr3d_1 - arr3d_2\n",
        "\n",
        "# Multiply the two 3D arrays\n",
        "arr_prod = arr3d_1 * arr3d_2\n",
        "\n",
        "# Divide the two 3D arrays\n",
        "arr_div = arr3d_1 / arr3d_2\n",
        "\n",
        "# Print the arrays and their results\n",
        "print(\"3D array 1: \\n\", arr3d_1)\n",
        "print(\"3D array 2: \\n\", arr3d_2)\n",
        "print(\"Addition result: \\n\", arr_sum)\n",
        "print(\"Subtraction result: \\n\", arr_diff)\n",
        "print(\"Multiplication result: \\n\", arr_prod)\n",
        "print(\"Division result: \\n\", arr_div)"
      ],
      "metadata": {
        "colab": {
          "base_uri": "https://localhost:8080/"
        },
        "id": "t9cBEGSe-t_S",
        "outputId": "8eac715b-3ed4-4187-ba8b-31e608c2319a"
      },
      "execution_count": 6,
      "outputs": [
        {
          "output_type": "stream",
          "name": "stdout",
          "text": [
            "3D array 1: \n",
            " [[[1 2]\n",
            "  [3 4]]\n",
            "\n",
            " [[5 6]\n",
            "  [7 8]]]\n",
            "3D array 2: \n",
            " [[[8 7]\n",
            "  [6 5]]\n",
            "\n",
            " [[4 3]\n",
            "  [2 1]]]\n",
            "Addition result: \n",
            " [[[9 9]\n",
            "  [9 9]]\n",
            "\n",
            " [[9 9]\n",
            "  [9 9]]]\n",
            "Subtraction result: \n",
            " [[[-7 -5]\n",
            "  [-3 -1]]\n",
            "\n",
            " [[ 1  3]\n",
            "  [ 5  7]]]\n",
            "Multiplication result: \n",
            " [[[ 8 14]\n",
            "  [18 20]]\n",
            "\n",
            " [[20 18]\n",
            "  [14  8]]]\n",
            "Division result: \n",
            " [[[0.125      0.28571429]\n",
            "  [0.5        0.8       ]]\n",
            "\n",
            " [[1.25       2.        ]\n",
            "  [3.5        8.        ]]]\n"
          ]
        }
      ]
    },
    {
      "cell_type": "code",
      "source": [
        "\n",
        "# Create a 3D array\n",
        "arr3d = np.array([[[1, 2, 3], [4, 5, 6]], [[7, 8, 9], [10, 11, 12]]])\n",
        "\n",
        "# Slice the 3D array to get a 2D array\n",
        "slice_2d = arr3d[0,:,:]\n",
        "\n",
        "# Slice the 3D array to get a 1D array\n",
        "slice_1d = arr3d[0,0,:]\n",
        "\n",
        "# Print the arrays and their results\n",
        "print(\"3D array: \\n\", arr3d)\n",
        "print(\"2D slice: \\n\", slice_2d)\n",
        "print(\"1D slice: \\n\", slice_1d)"
      ],
      "metadata": {
        "colab": {
          "base_uri": "https://localhost:8080/"
        },
        "id": "JcogJAK7-yHC",
        "outputId": "e7ea53fb-e952-4a80-f436-363cfa121fa1"
      },
      "execution_count": 7,
      "outputs": [
        {
          "output_type": "stream",
          "name": "stdout",
          "text": [
            "3D array: \n",
            " [[[ 1  2  3]\n",
            "  [ 4  5  6]]\n",
            "\n",
            " [[ 7  8  9]\n",
            "  [10 11 12]]]\n",
            "2D slice: \n",
            " [[1 2 3]\n",
            " [4 5 6]]\n",
            "1D slice: \n",
            " [1 2 3]\n"
          ]
        }
      ]
    },
    {
      "cell_type": "code",
      "source": [
        "# Create two matrices\n",
        "A = np.array([[1, 2], [3, 4], [5, 6]])\n",
        "B = np.array([[7, 8], [9, 10]])\n",
        "\n",
        "# Compute their matrix product using the dot function\n",
        "C_dot = np.dot(A, B)\n",
        "\n",
        "# Compute their matrix product using the @ operator\n",
        "C_at = A @ B\n",
        "\n",
        "# Print the results\n",
        "print(\"A:\\n\", A)\n",
        "print(\"B:\\n\", B)\n",
        "print(\"A dot B:\\n\", C_dot)\n",
        "print(\"A @ B:\\n\", C_at)"
      ],
      "metadata": {
        "colab": {
          "base_uri": "https://localhost:8080/"
        },
        "id": "a11KAfMO_KT7",
        "outputId": "88d92074-4d46-4ad8-aea8-838338646085"
      },
      "execution_count": 8,
      "outputs": [
        {
          "output_type": "stream",
          "name": "stdout",
          "text": [
            "A:\n",
            " [[1 2]\n",
            " [3 4]\n",
            " [5 6]]\n",
            "B:\n",
            " [[ 7  8]\n",
            " [ 9 10]]\n",
            "A dot B:\n",
            " [[ 25  28]\n",
            " [ 57  64]\n",
            " [ 89 100]]\n",
            "A @ B:\n",
            " [[ 25  28]\n",
            " [ 57  64]\n",
            " [ 89 100]]\n"
          ]
        }
      ]
    },
    {
      "cell_type": "code",
      "source": [
        "arr = np.arange(15).reshape((3, 5))\n",
        "arr"
      ],
      "metadata": {
        "colab": {
          "base_uri": "https://localhost:8080/"
        },
        "id": "WWvVAKCn_ZTq",
        "outputId": "c6cf5fd8-3330-4307-df5a-5877bf67ab12"
      },
      "execution_count": 9,
      "outputs": [
        {
          "output_type": "execute_result",
          "data": {
            "text/plain": [
              "array([[ 0,  1,  2,  3,  4],\n",
              "       [ 5,  6,  7,  8,  9],\n",
              "       [10, 11, 12, 13, 14]])"
            ]
          },
          "metadata": {},
          "execution_count": 9
        }
      ]
    },
    {
      "cell_type": "code",
      "source": [
        "arr.T"
      ],
      "metadata": {
        "colab": {
          "base_uri": "https://localhost:8080/"
        },
        "id": "fp200l_Z_kSa",
        "outputId": "dc27840a-6c99-4fe9-b460-a78611b5f1d6"
      },
      "execution_count": 10,
      "outputs": [
        {
          "output_type": "execute_result",
          "data": {
            "text/plain": [
              "array([[ 0,  5, 10],\n",
              "       [ 1,  6, 11],\n",
              "       [ 2,  7, 12],\n",
              "       [ 3,  8, 13],\n",
              "       [ 4,  9, 14]])"
            ]
          },
          "metadata": {},
          "execution_count": 10
        }
      ]
    },
    {
      "cell_type": "markdown",
      "source": [
        "# The End 😃"
      ],
      "metadata": {
        "id": "jxWgGMo-_lGa"
      }
    }
  ]
}