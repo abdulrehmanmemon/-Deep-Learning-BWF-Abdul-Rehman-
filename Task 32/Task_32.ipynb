{
  "nbformat": 4,
  "nbformat_minor": 0,
  "metadata": {
    "colab": {
      "provenance": []
    },
    "kernelspec": {
      "name": "python3",
      "display_name": "Python 3"
    },
    "language_info": {
      "name": "python"
    }
  },
  "cells": [
    {
      "cell_type": "markdown",
      "source": [
        "#ABDUL REHMAN\n",
        "#E-mail: a.rehmanmemon.034@gmail.com\n",
        "#Date Of Submission: 02/07/2023"
      ],
      "metadata": {
        "id": "vBy15Yljkn-v"
      }
    },
    {
      "cell_type": "markdown",
      "source": [
        "# 🔴 Task 32\n",
        "\n",
        "# Topics: Building Hybrid Networks using CNN and LSTM"
      ],
      "metadata": {
        "id": "2638y83WkyZR"
      }
    },
    {
      "cell_type": "code",
      "source": [
        "import tensorflow as tf\n",
        "from tensorflow.keras.datasets import cifar10\n",
        "from tensorflow.keras.models import Sequential\n",
        "from tensorflow.keras.layers import Conv2D, MaxPooling2D, Flatten, LSTM, Dense, Reshape"
      ],
      "metadata": {
        "id": "C-hbLdkKk1aG"
      },
      "execution_count": 4,
      "outputs": []
    },
    {
      "cell_type": "markdown",
      "source": [
        "#dataset"
      ],
      "metadata": {
        "id": "kCQhetkglHiM"
      }
    },
    {
      "cell_type": "code",
      "source": [
        "# Load the CIFAR-10 dataset\n",
        "(x_train, y_train), (x_test, y_test) = cifar10.load_data()\n",
        "num_classes = 10\n",
        "\n",
        "# Preprocess the data\n",
        "x_train = x_train.astype('float32') / 255\n",
        "x_test = x_test.astype('float32') / 255"
      ],
      "metadata": {
        "colab": {
          "base_uri": "https://localhost:8080/"
        },
        "id": "q7q_YzhdlJLN",
        "outputId": "b45f7807-67c1-4fe9-9a85-aa0c93e5901f"
      },
      "execution_count": 2,
      "outputs": [
        {
          "output_type": "stream",
          "name": "stdout",
          "text": [
            "Downloading data from https://www.cs.toronto.edu/~kriz/cifar-10-python.tar.gz\n",
            "170498071/170498071 [==============================] - 3s 0us/step\n"
          ]
        }
      ]
    },
    {
      "cell_type": "code",
      "source": [
        "# Define the CNN-LSTM hybrid model\n",
        "model = Sequential()\n",
        "model.add(Conv2D(32, (3, 3), activation='relu', padding='same', input_shape=(32, 32, 3)))\n",
        "model.add(MaxPooling2D((2, 2)))\n",
        "model.add(Conv2D(64, (3, 3), activation='relu', padding='same'))\n",
        "model.add(MaxPooling2D((2, 2)))\n",
        "model.add(Flatten())\n",
        "model.add(Reshape((1, -1)))\n",
        "model.add(LSTM(128))\n",
        "model.add(Dense(num_classes, activation='softmax'))"
      ],
      "metadata": {
        "id": "-iLPinxclMqU"
      },
      "execution_count": 5,
      "outputs": []
    },
    {
      "cell_type": "code",
      "source": [
        "# Compile the model\n",
        "model.compile(optimizer='adam', loss='sparse_categorical_crossentropy', metrics=['accuracy'])\n",
        "\n",
        "# Train the model\n",
        "model.fit(x_train, y_train, batch_size=128, epochs=2, validation_data=(x_test, y_test))"
      ],
      "metadata": {
        "colab": {
          "base_uri": "https://localhost:8080/"
        },
        "id": "bmLtmt3NlQcl",
        "outputId": "eb93db44-5b18-464e-a9d6-bd0b41f93bc5"
      },
      "execution_count": 7,
      "outputs": [
        {
          "output_type": "stream",
          "name": "stdout",
          "text": [
            "Epoch 1/2\n",
            "391/391 [==============================] - 131s 328ms/step - loss: 1.3227 - accuracy: 0.5301 - val_loss: 1.1348 - val_accuracy: 0.5993\n",
            "Epoch 2/2\n",
            "391/391 [==============================] - 127s 325ms/step - loss: 1.0194 - accuracy: 0.6419 - val_loss: 0.9679 - val_accuracy: 0.6612\n"
          ]
        },
        {
          "output_type": "execute_result",
          "data": {
            "text/plain": [
              "<keras.callbacks.History at 0x7f57898c9c00>"
            ]
          },
          "metadata": {},
          "execution_count": 7
        }
      ]
    }
  ]
}