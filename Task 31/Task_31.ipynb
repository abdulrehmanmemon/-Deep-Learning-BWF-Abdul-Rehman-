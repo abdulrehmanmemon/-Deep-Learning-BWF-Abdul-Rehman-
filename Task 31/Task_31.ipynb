{
  "nbformat": 4,
  "nbformat_minor": 0,
  "metadata": {
    "colab": {
      "provenance": []
    },
    "kernelspec": {
      "name": "python3",
      "display_name": "Python 3"
    },
    "language_info": {
      "name": "python"
    }
  },
  "cells": [
    {
      "cell_type": "markdown",
      "source": [
        "#ABDUL REHMAN\n",
        "#E-mail: a.rehmanmemon.034@gmail.com\n",
        "#Date Of Submission: 02/07/2023"
      ],
      "metadata": {
        "id": "9LcAk-GPiacl"
      }
    },
    {
      "cell_type": "markdown",
      "source": [
        "# 🔴 Task 31\n",
        "\n",
        "# Topics: Applying One-Hot Encoding and Word Embeddings"
      ],
      "metadata": {
        "id": "lG4xiEupjzZs"
      }
    },
    {
      "cell_type": "markdown",
      "source": [
        "# One-Hot Encoding"
      ],
      "metadata": {
        "id": "c9AWd7GzkRy1"
      }
    },
    {
      "cell_type": "code",
      "source": [
        "from tensorflow.keras.datasets import imdb\n",
        "from tensorflow.keras.preprocessing.sequence import pad_sequences\n",
        "from tensorflow.keras.utils import to_categorical\n",
        "\n",
        "# Load the IMDb movie review dataset\n",
        "(x_train, y_train), (x_test, y_test) = imdb.load_data(num_words=10000)\n",
        "\n",
        "# Pad the sequences to have the same length\n",
        "max_sequence_length = 500\n",
        "x_train = pad_sequences(x_train, maxlen=max_sequence_length)\n",
        "x_test = pad_sequences(x_test, maxlen=max_sequence_length)\n",
        "\n",
        "# Apply one-hot encoding to the labels\n",
        "num_classes = 2\n",
        "y_train = to_categorical(y_train, num_classes)\n",
        "y_test = to_categorical(y_test, num_classes)\n",
        "\n",
        "print(x_train.shape)\n",
        "print(y_train.shape)\n"
      ],
      "metadata": {
        "colab": {
          "base_uri": "https://localhost:8080/"
        },
        "id": "wP0ubbr2kGZ8",
        "outputId": "8bc25a60-5c8c-44a9-89bb-524cdace140c"
      },
      "execution_count": 2,
      "outputs": [
        {
          "output_type": "stream",
          "name": "stdout",
          "text": [
            "Downloading data from https://storage.googleapis.com/tensorflow/tf-keras-datasets/imdb.npz\n",
            "17464789/17464789 [==============================] - 0s 0us/step\n",
            "(25000, 500)\n",
            "(25000, 2)\n"
          ]
        }
      ]
    },
    {
      "cell_type": "markdown",
      "source": [
        "# Word Embeddings"
      ],
      "metadata": {
        "id": "v6u6J-8hkGTZ"
      }
    },
    {
      "cell_type": "code",
      "source": [
        "import tensorflow as tf\n",
        "from tensorflow.keras.datasets import imdb\n",
        "from tensorflow.keras.preprocessing.sequence import pad_sequences\n",
        "from tensorflow.keras.models import Sequential\n",
        "from tensorflow.keras.layers import Embedding, LSTM, Dense\n",
        "\n",
        "# Load the IMDb movie review dataset\n",
        "(x_train, y_train), (x_test, y_test) = imdb.load_data(num_words=10000)\n",
        "\n",
        "# Pad the sequences to have the same length\n",
        "max_sequence_length = 500\n",
        "x_train = pad_sequences(x_train, maxlen=max_sequence_length)\n",
        "x_test = pad_sequences(x_test, maxlen=max_sequence_length)\n",
        "\n",
        "# Define the model\n",
        "embedding_dim = 100\n",
        "model = Sequential()\n",
        "model.add(Embedding(input_dim=10000, output_dim=embedding_dim, input_length=max_sequence_length))\n",
        "model.add(LSTM(units=128))  # LSTM layer\n",
        "model.add(Dense(units=1, activation='sigmoid'))  # Output layer\n",
        "\n",
        "# Compile the model\n",
        "model.compile(optimizer='adam', loss='binary_crossentropy', metrics=['accuracy'])\n",
        "\n",
        "# Train the model\n",
        "model.fit(x_train, y_train, batch_size=128, epochs=5, validation_data=(x_test, y_test))\n"
      ],
      "metadata": {
        "colab": {
          "base_uri": "https://localhost:8080/"
        },
        "id": "ucuFwau2kXhy",
        "outputId": "68661d71-ed1f-42aa-949a-8a4b3a7a587b"
      },
      "execution_count": 5,
      "outputs": [
        {
          "output_type": "stream",
          "name": "stdout",
          "text": [
            "Epoch 1/5\n",
            "196/196 [==============================] - 450s 2s/step - loss: 0.5030 - accuracy: 0.7485 - val_loss: 0.3525 - val_accuracy: 0.8512\n",
            "Epoch 2/5\n",
            "196/196 [==============================] - 474s 2s/step - loss: 0.2779 - accuracy: 0.8896 - val_loss: 0.3225 - val_accuracy: 0.8652\n",
            "Epoch 3/5\n",
            "196/196 [==============================] - 472s 2s/step - loss: 0.3623 - accuracy: 0.8360 - val_loss: 0.4498 - val_accuracy: 0.8209\n",
            "Epoch 4/5\n",
            "196/196 [==============================] - 473s 2s/step - loss: 0.2551 - accuracy: 0.9000 - val_loss: 0.3555 - val_accuracy: 0.8460\n",
            "Epoch 5/5\n",
            "196/196 [==============================] - 471s 2s/step - loss: 0.1979 - accuracy: 0.9265 - val_loss: 0.3566 - val_accuracy: 0.8634\n"
          ]
        },
        {
          "output_type": "execute_result",
          "data": {
            "text/plain": [
              "<keras.callbacks.History at 0x7f6f2feffc40>"
            ]
          },
          "metadata": {},
          "execution_count": 5
        }
      ]
    }
  ]
}