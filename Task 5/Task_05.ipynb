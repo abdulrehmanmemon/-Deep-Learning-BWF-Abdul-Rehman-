{
  "nbformat": 4,
  "nbformat_minor": 0,
  "metadata": {
    "colab": {
      "provenance": []
    },
    "kernelspec": {
      "name": "python3",
      "display_name": "Python 3"
    },
    "language_info": {
      "name": "python"
    }
  },
  "cells": [
    {
      "cell_type": "markdown",
      "source": [
        "# ABDUL REHMAN\n",
        "## E-mail: a.rehmanmemon.034@gmail.com\n",
        "### Date Of Submission: 24/03/2023"
      ],
      "metadata": {
        "id": "ajjfWyS9Afer"
      }
    },
    {
      "cell_type": "markdown",
      "source": [
        "# Task 05\n",
        "\n",
        "Topics: Enumerate() function, Timing Your Code, User Inputs, Conditionals, Introducing Set, Union, \n",
        "Intersection, Difference, Symmetric Difference, Making Data Unique with Sets\n",
        "\n",
        "Resource: https://drive.google.com/file/d/12HEIuGU0NRgJutUQkMUhGKo-Nr_YWYdq/view?usp=share_link"
      ],
      "metadata": {
        "id": "rwuC_nwgAjUn"
      }
    },
    {
      "cell_type": "markdown",
      "source": [
        "## Chapter 5: if Statements\n",
        "\n",
        "5-1. Conditional Tests: Write a series of conditional tests. Print a statement\n",
        "describing each test and your prediction for the results of each test.\n",
        "\n",
        "5-2. More Conditional Tests: Have at least one True and one False result for\n",
        "each of the following:\n",
        "\n",
        "* Tests for equality and inequality with strings\n",
        "* Numerical tests involving equality and inequality, greater than and less than, greater than or equal to, and less than or equal to\n",
        "* Tests using the and keyword and the or keyword\n",
        "* Test whether an item is in a list\n",
        "* Test whether an item is not in a list"
      ],
      "metadata": {
        "id": "Aa4VV74HAwbc"
      }
    },
    {
      "cell_type": "code",
      "source": [
        "print('Exercise 5.1')\n",
        "car = 'subaru'\n",
        "print(\"Is car == 'subaru'? I predict True.\")\n",
        "print(car == 'subaru')\n",
        "print(\"\\nIs car == 'audi'? I predict False.\")\n",
        "print(car == 'audi')\n",
        "\n",
        "print('\\nExercise 5.2')\n",
        "print(car=='audi' or car == 'subaru')\n",
        "print(car=='subaru' and car == 'subaru')\n",
        "print(3>2)\n",
        "print(3>=2)\n",
        "print(4 in [1,2,4,5])\n",
        "print(4 not in [1,2,4,5])"
      ],
      "metadata": {
        "colab": {
          "base_uri": "https://localhost:8080/"
        },
        "id": "IM2WTxHAAwSu",
        "outputId": "21b61981-5816-41c6-f5b9-fa125808988b"
      },
      "execution_count": 5,
      "outputs": [
        {
          "output_type": "stream",
          "name": "stdout",
          "text": [
            "Exercise 5.1\n",
            "Is car == 'subaru'? I predict True.\n",
            "True\n",
            "\n",
            "Is car == 'audi'? I predict False.\n",
            "False\n",
            "\n",
            "Exercise 5.2\n",
            "True\n",
            "True\n",
            "True\n",
            "True\n",
            "True\n",
            "False\n"
          ]
        }
      ]
    },
    {
      "cell_type": "markdown",
      "source": [
        "5-3. Alien Colors #1: Imagine an alien was just shot down in a game. Create a\n",
        "variable called alien_color and assign it a value of 'green', 'yellow', or 'red'.\n",
        "* Write an if statement to test whether the alien’s color is green. If it is, print a message that the player just earned 5 points.\n",
        "* Write one version of this program that passes the if test and another that fails. (The version that fails will have no output.)\n",
        "\n",
        "5-4. Alien Colors #2: Choose a color for an alien as you did in Exercise 5-3, and write an if-else chain.\n",
        "* If the alien’s color is green, print a statement that the player just earned\n",
        "5 points for shooting the alien.\n",
        "* If the alien’s color isn’t green, print a statement that the player just earned 10 points.\n",
        "* Write one version of this program that runs the if block and another that\n",
        "runs the else block."
      ],
      "metadata": {
        "id": "IkCWv_5lCQFx"
      }
    },
    {
      "cell_type": "code",
      "source": [
        "print('Exercise 5.3')\n",
        "alien_color = 'green'\n",
        "if (alien_color=='green'):\n",
        "  print('You got 5 points')\n",
        "\n",
        "if (alien_color=='red'):\n",
        "  print('You got 5 points')\n",
        "\n",
        "print('\\nExercise 5.4')\n",
        "if (alien_color=='green'):\n",
        "  print('You got 5 points')\n",
        "else:\n",
        "  print('You got 10 points')\n",
        "\n",
        "if (alien_color=='red'):\n",
        "  print('You got 5 points')\n",
        "else:\n",
        "  print('You got 10 points')"
      ],
      "metadata": {
        "colab": {
          "base_uri": "https://localhost:8080/"
        },
        "id": "VxOtqymNC4pK",
        "outputId": "be429567-b28d-4446-d6e9-9dd77e633a10"
      },
      "execution_count": 6,
      "outputs": [
        {
          "output_type": "stream",
          "name": "stdout",
          "text": [
            "Exercise 5.3\n",
            "You got 5 points\n",
            "\n",
            "Exercise 5.4\n",
            "You got 5 points\n",
            "You got 10 points\n"
          ]
        }
      ]
    },
    {
      "cell_type": "markdown",
      "source": [
        "5-5. Alien Colors #3: Turn your if-else chain from Exercise 5-4 into an if-elif-\n",
        "else chain.\n",
        "\n",
        "* If the alien is green, print a message that the player earned 5 points.\n",
        "* If the alien is yellow, print a message that the player earned 10 points.\n",
        "* If the alien is red, print a message that the player earned 15 points.\n",
        "* Write three versions of this program, making sure each message is printed for the appropriate color alien.\n",
        "\n",
        "5-6. Stages of Life: Write an if-elif-else chain that determines a person’s\n",
        "stage of life. Set a value for the variable age, and then:\n",
        "* If the person is less than 2 years old, print a message that the person is\n",
        "a baby.\n",
        "* If the person is at least 2 years old but less than 4, print a message that\n",
        "the person is a toddler.\n",
        "* If the person is at least 4 years old but less than 13, print a message that\n",
        "the person is a kid.\n",
        "* If the person is at least 13 years old but less than 20, print a message that\n",
        "the person is a teenager.\n",
        "* If the person is at least 20 years old but less than 65, print a message that\n",
        "the person is an adult.\n",
        "* If the person is age 65 or older, print a message that the person is an\n",
        "elder.\n",
        "\n",
        "5-7. Favorite Fruit: Make a list of your favorite fruits, and then write a series of independent if statements that check for certain fruits in your list.\n",
        "* Make a list of your three favorite fruits and call it favorite_fruits.\n",
        "* Write five if statements. Each should check whether a certain kind of fruit\n",
        "is in your list. If the fruit is in your list, the if block should print a statement, such as You really like bananas!"
      ],
      "metadata": {
        "id": "ZhaSj3trECYV"
      }
    },
    {
      "cell_type": "code",
      "source": [
        "print('\\nExercise 5.5')\n",
        "alien_color = \"green\"\n",
        "\n",
        "if alien_color == \"green\":\n",
        "    print(\"Congratulations, you just earned 5 points!\")\n",
        "elif alien_color == \"yellow\":\n",
        "    print(\"Congratulations, you just earned 10 points!\")\n",
        "else:\n",
        "    print(\"Congratulations, you just earned 15 points!\")\n",
        "\n",
        "alien_color = \"yellow\"\n",
        "\n",
        "if alien_color == \"green\":\n",
        "    print(\"Congratulations, you just earned 5 points!\")\n",
        "elif alien_color == \"yellow\":\n",
        "    print(\"Congratulations, you just earned 10 points!\")\n",
        "else:\n",
        "    print(\"Congratulations, you just earned 15 points!\")\n",
        "\n",
        "alien_color = \"red\"\n",
        "\n",
        "if alien_color == \"green\":\n",
        "    print(\"Congratulations, you just earned 5 points!\")\n",
        "elif alien_color == \"yellow\":\n",
        "    print(\"Congratulations, you just earned 10 points!\")\n",
        "else:\n",
        "    print(\"Congratulations, you just earned 15 points!\")"
      ],
      "metadata": {
        "colab": {
          "base_uri": "https://localhost:8080/"
        },
        "id": "0NWYpwgwEYwm",
        "outputId": "f223fd7c-12b4-477d-841f-433d654c2c88"
      },
      "execution_count": 7,
      "outputs": [
        {
          "output_type": "stream",
          "name": "stdout",
          "text": [
            "\n",
            "Exercise 5.5\n",
            "Congratulations, you just earned 5 points!\n",
            "Congratulations, you just earned 10 points!\n",
            "Congratulations, you just earned 15 points!\n"
          ]
        }
      ]
    },
    {
      "cell_type": "code",
      "source": [
        "print('\\nExercise 5.6')\n",
        "age = 30\n",
        "\n",
        "if age < 2:\n",
        "    print(\"The person is a baby.\")\n",
        "elif age < 4:\n",
        "    print(\"The person is a toddler.\")\n",
        "elif age < 13:\n",
        "    print(\"The person is a kid.\")\n",
        "elif age < 20:\n",
        "    print(\"The person is a teenager.\")\n",
        "elif age < 65:\n",
        "    print(\"The person is an adult.\")\n",
        "else:\n",
        "    print(\"The person is an elder.\")"
      ],
      "metadata": {
        "colab": {
          "base_uri": "https://localhost:8080/"
        },
        "id": "4ScikAuHEvFQ",
        "outputId": "22c6591e-12a4-44ae-d201-e0a65d9d8881"
      },
      "execution_count": 8,
      "outputs": [
        {
          "output_type": "stream",
          "name": "stdout",
          "text": [
            "\n",
            "Exercise 5.6\n",
            "The person is an adult.\n"
          ]
        }
      ]
    },
    {
      "cell_type": "code",
      "source": [
        "print('\\nExercise 5.7')\n",
        "# create a list of favorite fruits\n",
        "favorite_fruits = ['banana', 'mango', 'strawberry']\n",
        "\n",
        "# check if certain fruits are in the list using if statements\n",
        "if 'banana' in favorite_fruits:\n",
        "    print(\"You really like bananas!\")\n",
        "if 'apple' in favorite_fruits:\n",
        "    print(\"You really like apples!\")\n",
        "if 'mango' in favorite_fruits:\n",
        "    print(\"You really like mangoes!\")\n",
        "if 'pineapple' in favorite_fruits:\n",
        "    print(\"You really like pineapples!\")\n",
        "if 'strawberry' in favorite_fruits:\n",
        "    print(\"You really like strawberries!\")"
      ],
      "metadata": {
        "colab": {
          "base_uri": "https://localhost:8080/"
        },
        "id": "uFJJQmz_FGlF",
        "outputId": "67f8f255-bb45-4201-9a79-1c4257e39eac"
      },
      "execution_count": 9,
      "outputs": [
        {
          "output_type": "stream",
          "name": "stdout",
          "text": [
            "\n",
            "Exercise 5.7\n",
            "You really like bananas!\n",
            "You really like mangoes!\n",
            "You really like strawberries!\n"
          ]
        }
      ]
    },
    {
      "cell_type": "markdown",
      "source": [
        "5-8. Hello Admin: Make a list of five or more usernames, including the name 'admin'. Imagine you are writing code that will print a greeting to each user\n",
        "after they log in to a website. Loop through the list, and print a greeting to\n",
        "each user:\n",
        "* If the username is 'admin', print a special greeting, such as Hello admin,\n",
        "would you like to see a status report?\n",
        "* Otherwise, print a generic greeting, such as Hello Eric, thank you for log-\n",
        "ging in again.\n",
        "\n",
        "5-9. No Users: Add an if test to hello_admin.py to make sure the list of users is not empty.\n",
        "* If the list is empty, print the message We need to find some users!\n",
        "* Remove all of the usernames from your list, and make sure the correct message is printed.\n",
        "\n",
        "5-10. Checking Usernames: Do the following to create a program that simulates\n",
        "how websites ensure that everyone has a unique username.\n",
        "* Make a list of five or more usernames called current_users.\n",
        "* Make another list of five usernames called new_users. Make sure one or two of the new usernames are also in the current_users list.\n",
        "* Loop through the new_users list to see if each new username has already been used. If it has, print a message that the person will need to enter a new username. If a username has not been used, print a message saying that the username is available.\n",
        "* Make sure your comparison is case insensitive. If 'John' has been used, 'JOHN' should not be accepted.\n",
        "\n",
        "5-11. Ordinal Numbers: Ordinal numbers indicate their position in a list, such\n",
        "as 1st or 2nd. Most ordinal numbers end in th, except 1, 2, and 3.\n",
        "* Store the numbers 1 through 9 in a list.\n",
        "* Loop through the list.\n",
        "* Use an if-elif-else chain inside the loop to print the proper ordinal end- ing for each number. Your output should read \"1st 2nd 3rd 4th 5th 6th 7th 8th 9th\", and each result should be on a separate line."
      ],
      "metadata": {
        "id": "nWSjBdrdFLWM"
      }
    },
    {
      "cell_type": "code",
      "source": [
        "print('\\nExercise 5.8')\n",
        "usernames = ['admin', 'johndoe', 'janedoe', 'bobsmith', 'sarahjones']\n",
        "\n",
        "for username in usernames:\n",
        "    if username == 'admin':\n",
        "        print(\"Hello admin, would you like to see a status report?\")\n",
        "    else:\n",
        "        print(f\"Hello {username}, thank you for logging in again.\")"
      ],
      "metadata": {
        "colab": {
          "base_uri": "https://localhost:8080/"
        },
        "id": "b9GzbPG8FprZ",
        "outputId": "688b0185-50c9-4f24-d877-ba7255d53229"
      },
      "execution_count": 10,
      "outputs": [
        {
          "output_type": "stream",
          "name": "stdout",
          "text": [
            "\n",
            "Exercise 5.8\n",
            "Hello admin, would you like to see a status report?\n",
            "Hello johndoe, thank you for logging in again.\n",
            "Hello janedoe, thank you for logging in again.\n",
            "Hello bobsmith, thank you for logging in again.\n",
            "Hello sarahjones, thank you for logging in again.\n"
          ]
        }
      ]
    },
    {
      "cell_type": "code",
      "source": [
        "print('\\nExercise 5.9')\n",
        "usernames = []\n",
        "\n",
        "if usernames:\n",
        "    for username in usernames:\n",
        "        if username == 'admin':\n",
        "            print(\"Hello admin, would you like to see a status report?\")\n",
        "        else:\n",
        "            print(f\"Hello {username}, thank you for logging in again.\")\n",
        "else:\n",
        "    print(\"We need to find some users!\")"
      ],
      "metadata": {
        "colab": {
          "base_uri": "https://localhost:8080/"
        },
        "id": "Ynhi1fV-GFzD",
        "outputId": "bc3d7d47-a5ec-4a81-8868-b9c3c15c0ea9"
      },
      "execution_count": 11,
      "outputs": [
        {
          "output_type": "stream",
          "name": "stdout",
          "text": [
            "\n",
            "Exercise 5.9\n",
            "We need to find some users!\n"
          ]
        }
      ]
    },
    {
      "cell_type": "code",
      "source": [
        "print('\\nExercise 5.10')\n",
        "\n",
        "# Define current users and new users\n",
        "current_users = ['John', 'jane', 'Bob', 'alice', 'Sam']\n",
        "new_users = ['SAM', 'Bob', 'lisa', 'Mark', 'jennifer']\n",
        "\n",
        "# Convert current_users to lowercase\n",
        "current_users_lower = [user.lower() for user in current_users]\n",
        "\n",
        "# Loop through new_users and check if each username has been used\n",
        "for user in new_users:\n",
        "    if user.lower() in current_users_lower:\n",
        "        print(f\"Sorry, the username '{user}' has already been taken. Please choose a different username.\")\n",
        "    else:\n",
        "        print(f\"The username '{user}' is available.\")"
      ],
      "metadata": {
        "colab": {
          "base_uri": "https://localhost:8080/"
        },
        "id": "4X8_DyT-GKTH",
        "outputId": "d8a36d38-b293-4f3e-ed0b-2a7081b7a47a"
      },
      "execution_count": 12,
      "outputs": [
        {
          "output_type": "stream",
          "name": "stdout",
          "text": [
            "\n",
            "Exercise 5.10\n",
            "Sorry, the username 'SAM' has already been taken. Please choose a different username.\n",
            "Sorry, the username 'Bob' has already been taken. Please choose a different username.\n",
            "The username 'lisa' is available.\n",
            "The username 'Mark' is available.\n",
            "The username 'jennifer' is available.\n"
          ]
        }
      ]
    },
    {
      "cell_type": "code",
      "source": [
        "print('\\nExercise 5.11')\n",
        "numbers = [1, 2, 3, 4, 5, 6, 7, 8, 9]\n",
        "\n",
        "for num in numbers:\n",
        "    if num == 1:\n",
        "        print(f\"{num}st\")\n",
        "    elif num == 2:\n",
        "        print(f\"{num}nd\")\n",
        "    elif num == 3:\n",
        "        print(f\"{num}rd\")\n",
        "    else:\n",
        "        print(f\"{num}th\")"
      ],
      "metadata": {
        "colab": {
          "base_uri": "https://localhost:8080/"
        },
        "id": "Ydp2IStFGm_8",
        "outputId": "d9acfabb-7d0c-4eb8-a24d-61742a931afb"
      },
      "execution_count": 13,
      "outputs": [
        {
          "output_type": "stream",
          "name": "stdout",
          "text": [
            "\n",
            "Exercise 5.11\n",
            "1st\n",
            "2nd\n",
            "3rd\n",
            "4th\n",
            "5th\n",
            "6th\n",
            "7th\n",
            "8th\n",
            "9th\n"
          ]
        }
      ]
    },
    {
      "cell_type": "markdown",
      "source": [
        "### Enumerate() function"
      ],
      "metadata": {
        "id": "diwkVfbfGt23"
      }
    },
    {
      "cell_type": "code",
      "source": [
        "usernames = ['admin', 'johndoe', 'janedoe', 'bobsmith', 'sarahjones']\n",
        "for index,user in enumerate(usernames):\n",
        "  print(f'{index}: {user}')"
      ],
      "metadata": {
        "colab": {
          "base_uri": "https://localhost:8080/"
        },
        "id": "lM6dR8pUG8PS",
        "outputId": "11c9eb0e-088d-4fcc-8643-5c5b1ffcfcd9"
      },
      "execution_count": 15,
      "outputs": [
        {
          "output_type": "stream",
          "name": "stdout",
          "text": [
            "0: admin\n",
            "1: johndoe\n",
            "2: janedoe\n",
            "3: bobsmith\n",
            "4: sarahjones\n"
          ]
        }
      ]
    },
    {
      "cell_type": "markdown",
      "source": [
        "## Timing Your Code"
      ],
      "metadata": {
        "id": "Wx2zRiL4HF4j"
      }
    },
    {
      "cell_type": "code",
      "source": [
        "%%timeit\n",
        "\n",
        "# Method 1\n",
        "result = []\n",
        "for i in range(10000):\n",
        "    result.append(i**2)"
      ],
      "metadata": {
        "colab": {
          "base_uri": "https://localhost:8080/"
        },
        "id": "kyulPQBsHWKX",
        "outputId": "88be1d16-d6d5-465a-f5e1-51d95c9f0c32"
      },
      "execution_count": 16,
      "outputs": [
        {
          "output_type": "stream",
          "name": "stdout",
          "text": [
            "4.04 ms ± 1.07 ms per loop (mean ± std. dev. of 7 runs, 100 loops each)\n"
          ]
        }
      ]
    },
    {
      "cell_type": "code",
      "source": [
        "%%timeit\n",
        "\n",
        "# Method 2\n",
        "result = [i**2 for i in range(10000)]"
      ],
      "metadata": {
        "colab": {
          "base_uri": "https://localhost:8080/"
        },
        "id": "YtuJhI3_H1Ua",
        "outputId": "05a58c4a-54d7-421a-c07f-5b3c535e2866"
      },
      "execution_count": 17,
      "outputs": [
        {
          "output_type": "stream",
          "name": "stdout",
          "text": [
            "3.76 ms ± 974 µs per loop (mean ± std. dev. of 7 runs, 100 loops each)\n"
          ]
        }
      ]
    },
    {
      "cell_type": "markdown",
      "source": [
        "##User Inputs"
      ],
      "metadata": {
        "id": "Ft4Inj2SH4a8"
      }
    },
    {
      "cell_type": "code",
      "source": [
        "#string\n",
        "name=input(\"Enter your name: \")\n",
        "#int\n",
        "age=int(input(\"Enter your age: \"))\n",
        "#float\n",
        "height=float(input(\"Enter your height(ft): \"))\n"
      ],
      "metadata": {
        "colab": {
          "base_uri": "https://localhost:8080/"
        },
        "id": "y30xasroIB6I",
        "outputId": "79853450-a7bb-4db5-ef7d-81977b26ff9f"
      },
      "execution_count": 18,
      "outputs": [
        {
          "name": "stdout",
          "output_type": "stream",
          "text": [
            "Enter your name: Ali\n",
            "Enter your age: 34\n",
            "Enter your height(ft): 5.6\n"
          ]
        }
      ]
    },
    {
      "cell_type": "markdown",
      "source": [
        "### Introducing Set, Union, Intersection, Difference, Symmetric Difference, Making Data Unique with Sets"
      ],
      "metadata": {
        "id": "ekAiEpSAIjBJ"
      }
    },
    {
      "cell_type": "code",
      "source": [
        "# Define two sample sets\n",
        "set1 = {1, 2, 3, 4, 5}\n",
        "set2 = {4, 5, 6, 7, 8}\n",
        "\n",
        "# Union operation\n",
        "union_set = set1.union(set2)\n",
        "print(\"Union Set:\", union_set)\n",
        "\n",
        "# Intersection operation\n",
        "intersection_set = set1.intersection(set2)\n",
        "print(\"Intersection Set:\", intersection_set)\n",
        "\n",
        "# Difference operation\n",
        "difference_set = set1.difference(set2)\n",
        "print(\"Difference Set (set1 - set2):\", difference_set)\n",
        "\n",
        "# Symmetric Difference operation\n",
        "symmetric_difference_set = set1.symmetric_difference(set2)\n",
        "print(\"Symmetric Difference Set:\", symmetric_difference_set)\n",
        "\n",
        "# Making data unique using sets\n",
        "data_list = [1, 2, 3, 3, 4, 4, 5, 5]\n",
        "unique_set = set(data_list)\n",
        "print(\"Unique Set:\", unique_set)"
      ],
      "metadata": {
        "colab": {
          "base_uri": "https://localhost:8080/"
        },
        "id": "6PedSLlxI6xW",
        "outputId": "4a6dc717-537e-4ab5-aa70-9b97e19b4acc"
      },
      "execution_count": 19,
      "outputs": [
        {
          "output_type": "stream",
          "name": "stdout",
          "text": [
            "Union Set: {1, 2, 3, 4, 5, 6, 7, 8}\n",
            "Intersection Set: {4, 5}\n",
            "Difference Set (set1 - set2): {1, 2, 3}\n",
            "Symmetric Difference Set: {1, 2, 3, 6, 7, 8}\n",
            "Unique Set: {1, 2, 3, 4, 5}\n"
          ]
        }
      ]
    },
    {
      "cell_type": "markdown",
      "source": [
        "# The End 😃"
      ],
      "metadata": {
        "id": "oETkPeXpI_JB"
      }
    }
  ]
}