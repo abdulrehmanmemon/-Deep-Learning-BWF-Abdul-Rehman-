{
  "nbformat": 4,
  "nbformat_minor": 0,
  "metadata": {
    "colab": {
      "provenance": []
    },
    "kernelspec": {
      "name": "python3",
      "display_name": "Python 3"
    },
    "language_info": {
      "name": "python"
    }
  },
  "cells": [
    {
      "cell_type": "markdown",
      "source": [
        "# ABDUL REHMAN\n",
        "## E-mail: a.rehmanmemon.034@gmail.com\n",
        "### Date Of Submission: 01/04/2023"
      ],
      "metadata": {
        "id": "Lf0Z8Y5A78bR"
      }
    },
    {
      "cell_type": "markdown",
      "source": [
        "#🔴 Task 22\n",
        "\n",
        "Topics: Supervised, Unsupervised, Self-Supervised, and Reinforcement Learning\n",
        "\n",
        "Resource: https://drive.google.com/file/d/1i9dPxM_1M4HYN5bYxFcuklC1vM0GrOCq/view?usp=share_link"
      ],
      "metadata": {
        "id": "wEMkhlTj8CIO"
      }
    },
    {
      "cell_type": "markdown",
      "source": [
        "1. Supervised Learning: In supervised learning, the machine learning model is trained on a labeled dataset, where each example is associated with a target output value. The model learns to map inputs to outputs by minimizing the difference between its predictions and the true labels. Supervised learning is commonly used for tasks such as classification and regression.\n",
        "\n",
        "2. Unsupervised Learning: In unsupervised learning, the machine learning model is trained on an unlabeled dataset, where the target output values are unknown. The model learns to identify patterns and structure in the data, such as clusters or latent variables, without the need for explicit supervision. Unsupervised learning is commonly used for tasks such as clustering and dimensionality reduction.\n",
        "\n",
        "3. Self-Supervised Learning: Self-supervised learning is a form of unsupervised learning where the model is trained to predict certain aspects of the input data, such as its context or transformations, without the need for explicit labels. The model learns to represent the data in a way that is useful for downstream tasks.\n",
        "\n",
        "4. Reinforcement Learning: In reinforcement learning, the machine learning model learns to make decisions by interacting with an environment and receiving feedback in the form of rewards or penalties. The model learns to maximize its cumulative reward over time by selecting actions that lead to positive outcomes. Reinforcement learning is commonly used for tasks such as game playing and robotics."
      ],
      "metadata": {
        "id": "U8xGjdmG8JV2"
      }
    },
    {
      "cell_type": "markdown",
      "source": [
        "# The End 😃"
      ],
      "metadata": {
        "id": "C0JFk_Y99ePl"
      }
    }
  ]
}