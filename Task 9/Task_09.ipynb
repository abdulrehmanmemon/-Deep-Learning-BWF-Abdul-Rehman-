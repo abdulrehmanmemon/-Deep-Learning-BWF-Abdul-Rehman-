{
  "nbformat": 4,
  "nbformat_minor": 0,
  "metadata": {
    "colab": {
      "provenance": []
    },
    "kernelspec": {
      "name": "python3",
      "display_name": "Python 3"
    },
    "language_info": {
      "name": "python"
    }
  },
  "cells": [
    {
      "cell_type": "markdown",
      "source": [
        "# ABDUL REHMAN\n",
        "## E-mail: a.rehmanmemon.034@gmail.com\n",
        "### Date Of Submission: 24/03/2023"
      ],
      "metadata": {
        "id": "XGWfNA8zNfOb"
      }
    },
    {
      "cell_type": "markdown",
      "source": [
        "## Task 09\n",
        "\n",
        "Topics: File Reading & Writing, Try, Except & Finally\n",
        "\n",
        "Resource: https://drive.google.com/file/d/12HEIuGU0NRgJutUQkMUhGKo-Nr_YWYdq/view?usp=share_link"
      ],
      "metadata": {
        "id": "Oy-ZX0vyNlHE"
      }
    },
    {
      "cell_type": "markdown",
      "source": [
        "## Chapter 10      Files and Exceptions"
      ],
      "metadata": {
        "id": "k9fYQdrFNrDX"
      }
    },
    {
      "cell_type": "code",
      "source": [
        "from google.colab import drive\n",
        "drive.mount('/content/drive')"
      ],
      "metadata": {
        "id": "K5LtqUrLUdi0"
      },
      "execution_count": null,
      "outputs": []
    },
    {
      "cell_type": "markdown",
      "source": [
        "10-1. Learning Python: Open a blank file in your text editor and write a few lines summarizing what you’ve learned about Python so far. Start each line with the phrase In Python you can.... Save the file as learning_python.txt in the same directory as your exercises from this chapter. Write a program that reads the file and prints what you wrote three times. Print the contents once by reading in the entire file, once by looping over the file object, and once by storing the lines in a list and then working with them outside the with block.\n",
        "\n",
        "10-2. Learning C: You can use the replace() method to replace any word in a string with a different word. Here’s a quick example showing how to replace 'dog' with 'cat' in a sentence:\n",
        ">>> message = \"I really like dogs.\"\n",
        "\n",
        ">>> message.replace('dog', 'cat')\n",
        "\n",
        ">>> 'I really like cats.'\n",
        "\n",
        "Read in each line from the file you just created, learning_python.txt, and replace the word Python with the name of another language, such as C. Print each modified line to the screen."
      ],
      "metadata": {
        "id": "2PdL7gUuVY_f"
      }
    },
    {
      "cell_type": "code",
      "source": [
        "print(\"\\nExercise 10.1\")\n",
        "filename = '/content/drive/MyDrive/Task 9/learning_python.txt'\n",
        "with open(filename) as file_object:\n",
        "    contents = file_object.read()\n",
        "print(contents)\n",
        "with open(filename) as file_object:\n",
        "    for line in file_object:\n",
        "        print(line.rstrip())\n",
        "with open(filename) as file_object:\n",
        "    lines = file_object.readlines()\n",
        "\n",
        "for line in lines:\n",
        "    print(line.rstrip())\n"
      ],
      "metadata": {
        "colab": {
          "base_uri": "https://localhost:8080/"
        },
        "id": "KXv9yz8cN0Ok",
        "outputId": "af02d036-3c9f-430d-9b39-8e65ca90443a"
      },
      "execution_count": 5,
      "outputs": [
        {
          "output_type": "stream",
          "name": "stdout",
          "text": [
            "\n",
            "Exercise 10.1\n",
            "Use variables to store data and manipulate them with various operations.\n",
            "Use functions to break down complex tasks into smaller, reusable parts.\n",
            "Work with different data structures like lists, tuples, sets, and dictionaries.\n",
            "Use control flow statements like if-else, while, and for loops to execute code conditionally or repeatedly.\n",
            "Import modules and use their pre-defined functions and classes to extend Python's capabilities.\n",
            "Use exceptions to handle errors and unexpected behavior in your code.\n",
            "Write object-oriented code using classes and objects to model real-world concepts.\n",
            "\n",
            "Use variables to store data and manipulate them with various operations.\n",
            "Use functions to break down complex tasks into smaller, reusable parts.\n",
            "Work with different data structures like lists, tuples, sets, and dictionaries.\n",
            "Use control flow statements like if-else, while, and for loops to execute code conditionally or repeatedly.\n",
            "Import modules and use their pre-defined functions and classes to extend Python's capabilities.\n",
            "Use exceptions to handle errors and unexpected behavior in your code.\n",
            "Write object-oriented code using classes and objects to model real-world concepts.\n",
            "Use variables to store data and manipulate them with various operations.\n",
            "Use functions to break down complex tasks into smaller, reusable parts.\n",
            "Work with different data structures like lists, tuples, sets, and dictionaries.\n",
            "Use control flow statements like if-else, while, and for loops to execute code conditionally or repeatedly.\n",
            "Import modules and use their pre-defined functions and classes to extend Python's capabilities.\n",
            "Use exceptions to handle errors and unexpected behavior in your code.\n",
            "Write object-oriented code using classes and objects to model real-world concepts.\n"
          ]
        }
      ]
    },
    {
      "cell_type": "code",
      "source": [
        "print(\"\\nExercise 10.2\")\n",
        "with open(filename, 'r') as file:\n",
        "    for line in file:\n",
        "        modified_line = line.replace('Python', 'C')\n",
        "        print(modified_line)\n"
      ],
      "metadata": {
        "colab": {
          "base_uri": "https://localhost:8080/"
        },
        "id": "JFG2Z7UHUYn8",
        "outputId": "2e3b8e5c-e423-41b8-9c41-5e258310bd9e"
      },
      "execution_count": 4,
      "outputs": [
        {
          "output_type": "stream",
          "name": "stdout",
          "text": [
            "\n",
            "Exercise 10.2\n",
            "Use variables to store data and manipulate them with various operations.\n",
            "\n",
            "Use functions to break down complex tasks into smaller, reusable parts.\n",
            "\n",
            "Work with different data structures like lists, tuples, sets, and dictionaries.\n",
            "\n",
            "Use control flow statements like if-else, while, and for loops to execute code conditionally or repeatedly.\n",
            "\n",
            "Import modules and use their pre-defined functions and classes to extend C's capabilities.\n",
            "\n",
            "Use exceptions to handle errors and unexpected behavior in your code.\n",
            "\n",
            "Write object-oriented code using classes and objects to model real-world concepts.\n",
            "\n"
          ]
        }
      ]
    },
    {
      "cell_type": "markdown",
      "source": [
        "10-3. Guest: Write a program that prompts the user for their name. When they\n",
        "respond, write their name to a file called guest.txt.\n",
        "\n",
        "10-4. Guest Book: Write a while loop that prompts users for their name. When\n",
        "they enter their name, print a greeting to the screen and add a line recording\n",
        "their visit in a file called guest_book.txt. Make sure each entry appears on a\n",
        "new line in the file.\n",
        "\n",
        "10-5. Programming Poll: Write a while loop that asks people why they like\n",
        "programming. Each time someone enters a reason, add their reason to a file\n",
        "that stores all the responses."
      ],
      "metadata": {
        "id": "ctAiXvxhWYLm"
      }
    },
    {
      "cell_type": "code",
      "source": [
        "print(\"\\nExercise 10.3\")\n",
        "filename='/content/drive/MyDrive/Task 9/guest.txt'\n",
        "name = input(\"What is your name? \")\n",
        "with open('guest.txt', 'w') as file:\n",
        "    file.write(name)\n",
        "\n",
        "print(\"Your name has been written to guest.txt.\")\n"
      ],
      "metadata": {
        "colab": {
          "base_uri": "https://localhost:8080/"
        },
        "id": "IBQflMS_WqX6",
        "outputId": "de22ae71-fd88-4f03-b7a8-ca87500b8e31"
      },
      "execution_count": 7,
      "outputs": [
        {
          "output_type": "stream",
          "name": "stdout",
          "text": [
            "\n",
            "Exercise 10.3\n",
            "What is your name? Ali\n",
            "Your name has been written to guest.txt.\n"
          ]
        }
      ]
    },
    {
      "cell_type": "code",
      "source": [
        "print(\"\\nExercise 10.4\")\n",
        "while True:\n",
        "    name = input(\"What's your name? \")\n",
        "    if name.lower() == 'quit':\n",
        "        break\n",
        "    print(f\"Hello, {name.title()}! Welcome to our website.\")\n",
        "    with open('guest_book.txt', 'a') as file:\n",
        "        file.write(name.title() + '\\n') # Add entry to file\n"
      ],
      "metadata": {
        "colab": {
          "base_uri": "https://localhost:8080/"
        },
        "id": "n233kkXiXF8a",
        "outputId": "05338bf6-6de2-4d45-d6ce-3947d9798a18"
      },
      "execution_count": 8,
      "outputs": [
        {
          "name": "stdout",
          "output_type": "stream",
          "text": [
            "\n",
            "Exercise 10.4\n",
            "What's your name? Hamza\n",
            "Hello, Hamza! Welcome to our website.\n",
            "What's your name? Ali\n",
            "Hello, Ali! Welcome to our website.\n",
            "What's your name? Aslam\n",
            "Hello, Aslam! Welcome to our website.\n",
            "What's your name? quit\n"
          ]
        }
      ]
    },
    {
      "cell_type": "code",
      "source": [
        "print(\"\\nExercise 10.5\")\n",
        "while True:\n",
        "    reason = input(\"Why do you like programming? (Enter 'quit' to exit) \")\n",
        "    if reason.lower() == 'quit':\n",
        "        break \n",
        "    with open('programming_reasons.txt', 'a') as file:\n",
        "        file.write(reason + '\\n') \n",
        "    print(\"Thanks for sharing your reason!\")\n"
      ],
      "metadata": {
        "colab": {
          "base_uri": "https://localhost:8080/"
        },
        "id": "PXW66rOgZAMf",
        "outputId": "9488f536-b0ba-42d3-8e93-d993843edcc4"
      },
      "execution_count": 9,
      "outputs": [
        {
          "name": "stdout",
          "output_type": "stream",
          "text": [
            "\n",
            "Exercise 10.5\n",
            "Why do you like programming? (Enter 'quit' to exit) I love it\n",
            "Thanks for sharing your reason!\n",
            "Why do you like programming? (Enter 'quit' to exit) Earn money\n",
            "Thanks for sharing your reason!\n",
            "Why do you like programming? (Enter 'quit' to exit) quit\n"
          ]
        }
      ]
    },
    {
      "cell_type": "markdown",
      "source": [
        "10-6. Addition: One common problem when prompting for numerical input\n",
        "occurs when people provide text instead of numbers. When you try to convert\n",
        "the input to an int, you’ll get a TypeError. Write a program that prompts for\n",
        "two numbers. Add them together and print the result. Catch the TypeError if\n",
        "either input value is not a number, and print a friendly error message. Test your\n",
        "program by entering two numbers and then by entering some text instead of a\n",
        "number."
      ],
      "metadata": {
        "id": "bj99I-C8Zux9"
      }
    },
    {
      "cell_type": "code",
      "source": [
        "print(\"\\nExercise 10.6\")\n",
        "while True:\n",
        "    try:\n",
        "        num1 = int(input(\"Enter the first number: \"))\n",
        "        num2 = int(input(\"Enter the second number: \"))\n",
        "        result = num1 + num2\n",
        "        print(f\"The sum of {num1} and {num2} is {result}.\")\n",
        "        break\n",
        "    except ValueError:\n",
        "        print(\"Sorry, you must enter a valid number.\")"
      ],
      "metadata": {
        "colab": {
          "base_uri": "https://localhost:8080/"
        },
        "id": "SB8w6vafaS5n",
        "outputId": "2cf4f580-73ec-4e14-b41b-059da7ddce88"
      },
      "execution_count": 11,
      "outputs": [
        {
          "output_type": "stream",
          "name": "stdout",
          "text": [
            "\n",
            "Exercise 10.6\n",
            "Enter the first number: r\n",
            "Sorry, you must enter a valid number.\n",
            "Enter the first number: 3\n",
            "Enter the second number: qw\n",
            "Sorry, you must enter a valid number.\n",
            "Enter the first number: 12\n",
            "Enter the second number: 32\n",
            "The sum of 12 and 32 is 44.\n"
          ]
        }
      ]
    },
    {
      "cell_type": "markdown",
      "source": [
        "10-7. Addition Calculator: Wrap your code from Exercise 10-6 in a while loop so the user can continue entering numbers even if they make a mistake and enter text instead of a number."
      ],
      "metadata": {
        "id": "iql5BEJMageT"
      }
    },
    {
      "cell_type": "code",
      "source": [
        "print(\"\\nExercise 10.7\")\n",
        "while True:\n",
        "    try:\n",
        "        num1 = int(input(\"Enter the first number: \"))\n",
        "        num2 = int(input(\"Enter the second number: \"))\n",
        "        result = num1 + num2\n",
        "        print(f\"The sum of {num1} and {num2} is {result}.\")\n",
        "    except ValueError:\n",
        "        print(\"Sorry, you must enter a valid number.\")\n",
        "    else:\n",
        "        break"
      ],
      "metadata": {
        "colab": {
          "base_uri": "https://localhost:8080/"
        },
        "id": "2NQQBi5TbAVN",
        "outputId": "0cfac759-5ce7-4cb4-b45d-8cc6a3568f56"
      },
      "execution_count": 12,
      "outputs": [
        {
          "output_type": "stream",
          "name": "stdout",
          "text": [
            "\n",
            "Exercise 10.7\n",
            "Enter the first number: er\n",
            "Sorry, you must enter a valid number.\n",
            "Enter the first number: 32\n",
            "Enter the second number: 12\n",
            "The sum of 32 and 12 is 44.\n"
          ]
        }
      ]
    },
    {
      "cell_type": "code",
      "source": [],
      "metadata": {
        "id": "JfdSfgCSbSj0"
      },
      "execution_count": null,
      "outputs": []
    }
  ]
}