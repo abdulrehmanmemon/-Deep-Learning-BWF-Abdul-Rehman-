{
  "nbformat": 4,
  "nbformat_minor": 0,
  "metadata": {
    "colab": {
      "provenance": []
    },
    "kernelspec": {
      "name": "python3",
      "display_name": "Python 3"
    },
    "language_info": {
      "name": "python"
    }
  },
  "cells": [
    {
      "cell_type": "markdown",
      "source": [
        "# ABDUL REHMAN\n",
        "## E-mail: a.rehmanmemon.034@gmail.com\n",
        "### Date Of Submission: 24/03/2023"
      ],
      "metadata": {
        "id": "VV5MFlQ4UGsz"
      }
    },
    {
      "cell_type": "markdown",
      "source": [
        "##Task 08\n",
        "\n",
        "Topics: Classes in Python, Inheritance in Classes\n",
        "\n",
        "Resource: https://drive.google.com/file/d/12HEIuGU0NRgJutUQkMUhGKo-Nr_YWYdq/view?usp=share_link"
      ],
      "metadata": {
        "id": "FEuOWRIvUH4X"
      }
    },
    {
      "cell_type": "markdown",
      "source": [
        "## Chapter 9 Classes\n",
        "9-1. Restaurant: Make a class called Restaurant. The __init__() method for\n",
        "Restaurant should store two attributes: a restaurant_name and a cuisine_type.\n",
        "Make a method called describe_restaurant() that prints these two pieces of information, and a method called open_restaurant() that prints a message indicating that the restaurant is open.Make an instance called restaurant from your class. Print the two attributes individually, and then call both methods.\n",
        "\n",
        "9-2. Three Restaurants: Start with your class from Exercise 9-1. Create three\n",
        "different instances from the class, and call describe_restaurant() for each\n",
        "instance.\n",
        "\n",
        "9-3. Users: Make a class called User. Create two attributes called first_name\n",
        "and last_name, and then create several other attributes that are typically stored in a user profile. Make a method called describe_user() that prints a summary of the user’s information. Make another method called greet_user() that prints a personalized greeting to the user.\n",
        "Create several instances representing different users, and call both methods\n",
        "for each user."
      ],
      "metadata": {
        "id": "cnsJFd_HUAJK"
      }
    },
    {
      "cell_type": "code",
      "source": [
        "print('\\nExercise 9.1')\n",
        "class Restaurant:\n",
        "  def __init__(self, restaurant_name, cuisine_type):\n",
        "    self.restaurant_name=restaurant_name\n",
        "    self.cuisine_type=cuisine_type\n",
        "  def describe_restaurant(self):\n",
        "    print('Name: ',self.restaurant_name)\n",
        "    print('Type: ',self.cuisine_type)\n",
        "  def open_restaurant(self):\n",
        "    print('From 8 to 12')\n",
        "v=Restaurant('Name he yar','Type bhi he')\n",
        "print(v.restaurant_name)\n",
        "print(v.cuisine_type)\n",
        "\n",
        "v.describe_restaurant()\n",
        "v.open_restaurant()\n",
        "\n",
        "print('\\nExercise 9.2')\n",
        "one=Restaurant('1','1')\n",
        "two=Restaurant('2','2')\n",
        "three=Restaurant('3','3')\n",
        "\n",
        "one.describe_restaurant()\n",
        "two.describe_restaurant()\n",
        "three.describe_restaurant()\n",
        "\n",
        "print('\\nExercise 9.3')\n",
        "\n",
        "class User:\n",
        "    def __init__(self, first_name, last_name, age, email):\n",
        "        self.first_name = first_name\n",
        "        self.last_name = last_name\n",
        "        self.age = age\n",
        "        self.email = email\n",
        "        self.city = \"\"\n",
        "        self.country = \"\"\n",
        "\n",
        "    def describe_user(self):\n",
        "        print(f\"{self.first_name} {self.last_name}\")\n",
        "        print(f\"Age: {self.age}\")\n",
        "        print(f\"Email: {self.email}\")\n",
        "        print(f\"Location: {self.city}, {self.country}\")\n",
        "\n",
        "    def greet_user(self):\n",
        "        print(f\"Hello, {self.first_name}!\")\n",
        "\n",
        "# Create several instances representing different users\n",
        "user1 = User(\"John\", \"Doe\", 35, \"johndoe@gmail.com\")\n",
        "user1.city = \"New York City\"\n",
        "user1.country = \"USA\"\n",
        "user1.describe_user()\n",
        "user1.greet_user()\n",
        "\n",
        "user2 = User(\"Jane\", \"Smith\", 27, \"janesmith@yahoo.com\")\n",
        "user2.city = \"Toronto\"\n",
        "user2.country = \"Canada\"\n",
        "user2.describe_user()\n",
        "user2.greet_user()\n"
      ],
      "metadata": {
        "colab": {
          "base_uri": "https://localhost:8080/"
        },
        "id": "tgh-F7LiUnhM",
        "outputId": "834d88ef-3023-425c-b2d8-9669465e950f"
      },
      "execution_count": 10,
      "outputs": [
        {
          "output_type": "stream",
          "name": "stdout",
          "text": [
            "\n",
            "Exercise 9.1\n",
            "Name he yar\n",
            "Type bhi he\n",
            "Name:  Name he yar\n",
            "Type:  Type bhi he\n",
            "From 8 to 12\n",
            "\n",
            "Exercise 9.2\n",
            "Name:  1\n",
            "Type:  1\n",
            "Name:  2\n",
            "Type:  2\n",
            "Name:  3\n",
            "Type:  3\n",
            "\n",
            "Exercise 9.3\n",
            "John Doe\n",
            "Age: 35\n",
            "Email: johndoe@gmail.com\n",
            "Location: New York City, USA\n",
            "Hello, John!\n",
            "Jane Smith\n",
            "Age: 27\n",
            "Email: janesmith@yahoo.com\n",
            "Location: Toronto, Canada\n",
            "Hello, Jane!\n"
          ]
        }
      ]
    },
    {
      "cell_type": "markdown",
      "source": [
        "9-4. Number Served: Start with your program from Exercise 9-1 (page 166).\n",
        "Add an attribute called number_served with a default value of 0. Create an\n",
        "instance called restaurant from this class. Print the number of customers the\n",
        "restaurant has served, and then change this value and print it again.\n",
        "Add a method called set_number_served() that lets you set the number\n",
        "of customers that have been served. Call this method with a new number and\n",
        "print the value again. Add a method called increment_number_served() that lets you increment the number of customers who’ve been served. Call this method with any number you like that could represent how many customers were served in, say, a day of business.\n",
        "\n",
        "9-5. Login Attempts: Add an attribute called login_attempts to your User\n",
        "class from Exercise 9-3 (page 166). Write a method called increment_\n",
        "login_attempts() that increments the value of login_attempts by 1. Write\n",
        "another method called reset_login_attempts() that resets the value of login_\n",
        "attempts to 0.\n",
        "Make an instance of the User class and call increment_login_attempts()\n",
        "several times. Print the value of login_attempts to make sure it was incremented\n",
        "properly, and then call reset_login_attempts(). Print login_attempts again to\n",
        "make sure it was reset to 0."
      ],
      "metadata": {
        "id": "7N9iHnfpWn7g"
      }
    },
    {
      "cell_type": "code",
      "source": [
        "print('\\nExercise 9.4')\n",
        "class Restaurant:\n",
        "  def __init__(self, restaurant_name, cuisine_type):\n",
        "    self.restaurant_name=restaurant_name\n",
        "    self.cuisine_type=cuisine_type\n",
        "    self.number_served=0\n",
        "  def describe_restaurant(self):\n",
        "    print('Name: ',self.restaurant_name)\n",
        "    print('Type: ',self.cuisine_type)\n",
        "  def open_restaurant(self):\n",
        "    print('From 8 to 12')\n",
        "  def set_number_served(self,num):\n",
        "    self.number_served=num\n",
        "  def increment_number_served(self):\n",
        "    self.number_served+=1\n",
        "o=Restaurant('9.4','9.4')\n",
        "print(\"Number served: \",o.number_served)\n",
        "o.number_served=4\n",
        "print(\"Number served: \",o.number_served)\n",
        "o.set_number_served(7)\n",
        "print(\"Number served: \",o.number_served)\n",
        "o.increment_number_served()\n",
        "print(\"Number served: \",o.number_served)"
      ],
      "metadata": {
        "id": "MfXo8Tt7VmOO",
        "colab": {
          "base_uri": "https://localhost:8080/"
        },
        "outputId": "b82fc2e6-08d3-4a6a-f8e4-4186f4473524"
      },
      "execution_count": 11,
      "outputs": [
        {
          "output_type": "stream",
          "name": "stdout",
          "text": [
            "\n",
            "Exercise 9.4\n",
            "Number served:  0\n",
            "Number served:  4\n",
            "Number served:  7\n",
            "Number served:  8\n"
          ]
        }
      ]
    },
    {
      "cell_type": "code",
      "source": [
        "print('\\nExercise 9.5')\n",
        "class User:\n",
        "    def __init__(self, first_name, last_name, age, email):\n",
        "        self.first_name = first_name\n",
        "        self.last_name = last_name\n",
        "        self.age = age\n",
        "        self.email = email\n",
        "        self.city = \"\"\n",
        "        self.country = \"\"\n",
        "        self.login_attempts = 0\n",
        "\n",
        "    def describe_user(self):\n",
        "        print(f\"{self.first_name} {self.last_name}\")\n",
        "        print(f\"Age: {self.age}\")\n",
        "        print(f\"Email: {self.email}\")\n",
        "        print(f\"Location: {self.city}, {self.country}\")\n",
        "\n",
        "    def greet_user(self):\n",
        "        print(f\"Hello, {self.first_name}!\")\n",
        "\n",
        "    def increment_login_attempts(self):\n",
        "        self.login_attempts += 1\n",
        "\n",
        "    def reset_login_attempts(self):\n",
        "        self.login_attempts = 0\n",
        "# Create a User instance\n",
        "user = User(\"John\", \"Doe\", 30, \"john.doe@example.com\")\n",
        "\n",
        "# Call increment_login_attempts() several times\n",
        "user.increment_login_attempts()\n",
        "user.increment_login_attempts()\n",
        "user.increment_login_attempts()\n",
        "\n",
        "# Print the value of login_attempts\n",
        "print(user.login_attempts)  # Output: 3\n",
        "\n",
        "# Call reset_login_attempts()\n",
        "user.reset_login_attempts()\n",
        "\n",
        "# Print the value of login_attempts again\n",
        "print(user.login_attempts)  # Output: 0\n"
      ],
      "metadata": {
        "colab": {
          "base_uri": "https://localhost:8080/"
        },
        "id": "1xLbryJZJ69X",
        "outputId": "f4b4bc7c-354f-42b5-f1ef-5603f806a158"
      },
      "execution_count": 2,
      "outputs": [
        {
          "output_type": "stream",
          "name": "stdout",
          "text": [
            "\n",
            "Exercise 9.5\n",
            "3\n",
            "0\n"
          ]
        }
      ]
    },
    {
      "cell_type": "markdown",
      "source": [
        "9-6. Ice Cream Stand: An ice cream stand is a specific kind of restaurant. Write\n",
        "a class called IceCreamStand that inherits from the Restaurant class you wrote\n",
        "in Exercise 9-1 (page 166) or Exercise 9-4 (page 171). Either version of\n",
        "the class will work; just pick the one you like better. Add an attribute called\n",
        "flavors that stores a list of ice cream flavors. Write a method that displays\n",
        "these flavors. Create an instance of IceCreamStand, and call this method.\n",
        "\n",
        "9-7. Admin: An administrator is a special kind of user. Write a class called\n",
        "Admin that inherits from the User class you wrote in Exercise 9-3 (page 166)\n",
        "or Exercise 9-5 (page 171). Add an attribute, privileges, that stores a list\n",
        "of strings like \"can add post\", \"can delete post\", \"can ban user\", and so on.\n",
        "Write a method called show_privileges() that lists the administrator’s set of\n",
        "privileges. Create an instance of Admin, and call your method.\n",
        "\n",
        "9-8. Privileges: Write a separate Privileges class. The class should have one\n",
        "attribute, privileges, that stores a list of strings as described in Exercise 9-7. Move the show_privileges() method to this class. Make a Privileges instance\n",
        "as an attribute in the Admin class. Create a new instance of Admin and use your\n",
        "method to show its privileges.\n",
        "\n",
        "9-9. Battery Upgrade: Use the final version of electric_car.py from this section. Add a method to the Battery class called upgrade_battery(). This method\n",
        "should check the battery size and set the capacity to 85 if it isn’t already.\n",
        "Make an electric car with a default battery size, call get_range() once, and\n",
        "then call get_range() a second time after upgrading the battery. You should\n",
        "see an increase in the car’s range."
      ],
      "metadata": {
        "id": "Pvjl7K7UKcIb"
      }
    },
    {
      "cell_type": "code",
      "source": [
        "print('\\nExercise 9.6')\n",
        "class IceCreamStand(Restaurant):\n",
        "    def __init__(self, restaurant_name, cuisine_type):\n",
        "        super().__init__(restaurant_name, cuisine_type)\n",
        "        self.flavors = []\n",
        "\n",
        "    def display_flavors(self):\n",
        "        print(\"We have the following flavors:\")\n",
        "        for flavor in self.flavors:\n",
        "            print(\"- \" + flavor)\n",
        "ice_cream_stand = IceCreamStand(\"Sweet Treats\", \"Ice Cream\")\n",
        "ice_cream_stand.flavors = ['Vanilla', 'Chocolate', 'Strawberry']\n",
        "ice_cream_stand.display_flavors()\n",
        "\n"
      ],
      "metadata": {
        "colab": {
          "base_uri": "https://localhost:8080/"
        },
        "id": "LdKGOu8bKrvs",
        "outputId": "d77b3e11-147b-4bee-ae1a-ce5e8023abde"
      },
      "execution_count": 4,
      "outputs": [
        {
          "output_type": "stream",
          "name": "stdout",
          "text": [
            "\n",
            "Exercise 9.6\n",
            "We have the following flavors:\n",
            "- Vanilla\n",
            "- Chocolate\n",
            "- Strawberry\n"
          ]
        }
      ]
    },
    {
      "cell_type": "code",
      "source": [
        "print('\\nExercise 9.7')\n",
        "class Admin(User):\n",
        "    def __init__(self, first_name, last_name, age, email):\n",
        "        super().__init__(first_name, last_name, age, email)\n",
        "        self.privileges = [\"can add post\", \"can delete post\", \"can ban user\"]\n",
        "\n",
        "    def show_privileges(self):\n",
        "        print(f\"Privileges for {self.first_name}:\")\n",
        "        for privilege in self.privileges:\n",
        "            print(\"- \" + privilege)\n",
        "\n",
        "admin = Admin(\"John\", \"Doe\", 30, \"john.doe@example.com\")\n",
        "admin.show_privileges()\n"
      ],
      "metadata": {
        "colab": {
          "base_uri": "https://localhost:8080/"
        },
        "id": "MTU5eGDyLIWV",
        "outputId": "075ab22e-c8fe-48eb-d458-e51f8de13631"
      },
      "execution_count": 5,
      "outputs": [
        {
          "output_type": "stream",
          "name": "stdout",
          "text": [
            "\n",
            "Exercise 9.7\n",
            "Privileges for John:\n",
            "- can add post\n",
            "- can delete post\n",
            "- can ban user\n"
          ]
        }
      ]
    },
    {
      "cell_type": "code",
      "source": [
        "print('\\nExercise 9.8')\n",
        "class Privileges:\n",
        "    def __init__(self):\n",
        "        self.privileges = [\"can add post\", \"can delete post\", \"can ban user\"]\n",
        "\n",
        "    def show_privileges(self):\n",
        "        print(f\"Privileges:\")\n",
        "        for privilege in self.privileges:\n",
        "            print(\"- \" + privilege)\n",
        "class Admin(User):\n",
        "    def __init__(self, first_name, last_name, age, email):\n",
        "        super().__init__(first_name, last_name, age, email)\n",
        "        self.privileges = Privileges()\n",
        "admin = Admin(\"John\", \"Doe\", 30, \"john.doe@example.com\")\n",
        "admin.privileges.show_privileges()\n"
      ],
      "metadata": {
        "colab": {
          "base_uri": "https://localhost:8080/"
        },
        "id": "IX8V39IwLfTV",
        "outputId": "67610142-0a1b-47bf-c6ec-6e2ca088a966"
      },
      "execution_count": 6,
      "outputs": [
        {
          "output_type": "stream",
          "name": "stdout",
          "text": [
            "\n",
            "Exercise 9.8\n",
            "Privileges:\n",
            "- can add post\n",
            "- can delete post\n",
            "- can ban user\n"
          ]
        }
      ]
    },
    {
      "cell_type": "code",
      "source": [
        "print('\\nExercise 9.9')\n",
        "class Battery:\n",
        "    def __init__(self, battery_size=75):\n",
        "        self.battery_size = battery_size\n",
        "\n",
        "    def describe_battery(self):\n",
        "        print(f\"This car has a {self.battery_size}-kWh battery.\")\n",
        "\n",
        "    def get_range(self):\n",
        "        if self.battery_size == 75:\n",
        "            range = 260\n",
        "        elif self.battery_size == 100:\n",
        "            range = 315\n",
        "        else:\n",
        "            range = 0\n",
        "\n",
        "        print(f\"This car can go approximately {range} miles on a full charge.\")\n",
        "\n",
        "    def upgrade_battery(self):\n",
        "        if self.battery_size < 85:\n",
        "            self.battery_size = 85\n",
        "my_car = Battery()\n",
        "my_car.get_range()\n",
        "my_car.upgrade_battery()\n",
        "my_car.get_range()"
      ],
      "metadata": {
        "colab": {
          "base_uri": "https://localhost:8080/"
        },
        "id": "SpfnbYk_L28Z",
        "outputId": "8a0e57f6-913c-448a-9161-713742250b76"
      },
      "execution_count": 8,
      "outputs": [
        {
          "output_type": "stream",
          "name": "stdout",
          "text": [
            "\n",
            "Exercise 9.9\n",
            "This car can go approximately 260 miles on a full charge.\n",
            "This car can go approximately 0 miles on a full charge.\n"
          ]
        }
      ]
    },
    {
      "cell_type": "markdown",
      "source": [
        "9-13. OrderedDict Rewrite: Start with Exercise 6-4 (page 108), where you\n",
        "used a standard dictionary to represent a glossary. Rewrite the program using\n",
        "the OrderedDict class and make sure the order of the output matches the order\n",
        "in which key-value pairs were added to the dictionary."
      ],
      "metadata": {
        "id": "9jJJ7wFCMWis"
      }
    },
    {
      "cell_type": "code",
      "source": [
        "print('\\nExercise 9.13')\n",
        "from collections import OrderedDict\n",
        "\n",
        "glossary = OrderedDict()\n",
        "\n",
        "glossary['string'] = 'A series of characters.'\n",
        "glossary['comment'] = 'A note in a program that the Python interpreter ignores.'\n",
        "glossary['list'] = 'A collection of items in a particular order.'\n",
        "glossary['loop'] = 'Work through a collection of items, one at a time.'\n",
        "glossary['dictionary'] = 'A collection of key-value pairs.'\n",
        "glossary['conditional test'] = 'A comparison between two values.'\n",
        "\n",
        "for word, definition in glossary.items():\n",
        "    print(f\"{word.title()}: {definition}\")\n"
      ],
      "metadata": {
        "colab": {
          "base_uri": "https://localhost:8080/"
        },
        "id": "Ds7QPdYHMt-B",
        "outputId": "1ccde93d-d2fb-4eba-d84b-255f81ac7852"
      },
      "execution_count": 9,
      "outputs": [
        {
          "output_type": "stream",
          "name": "stdout",
          "text": [
            "String: A series of characters.\n",
            "Comment: A note in a program that the Python interpreter ignores.\n",
            "List: A collection of items in a particular order.\n",
            "Loop: Work through a collection of items, one at a time.\n",
            "Dictionary: A collection of key-value pairs.\n",
            "Conditional Test: A comparison between two values.\n"
          ]
        }
      ]
    },
    {
      "cell_type": "markdown",
      "source": [
        "# The End 😃"
      ],
      "metadata": {
        "id": "BExk3CrVM0b8"
      }
    }
  ]
}